{
 "cells": [
  {
   "cell_type": "code",
   "execution_count": 1,
   "id": "1c196482",
   "metadata": {},
   "outputs": [],
   "source": [
    "import numpy as np\n",
    "import pandas as pd\n",
    "import matplotlib.pyplot as plt\n",
    "%matplotlib inline\n",
    "%config Completer.use_jedi = False"
   ]
  },
  {
   "cell_type": "markdown",
   "id": "d9dff397",
   "metadata": {},
   "source": [
    "## Read in the unlabelled data points"
   ]
  },
  {
   "cell_type": "markdown",
   "id": "ca071ae7",
   "metadata": {},
   "source": [
    "#### The dataset has been downloaded from [https://www.kaggle.com/harrywang/wine-dataset-for-clustering/version/1](https://www.kaggle.com/harrywang/wine-dataset-for-clustering/version/1)"
   ]
  },
  {
   "cell_type": "code",
   "execution_count": 2,
   "id": "d5fdbb6e",
   "metadata": {},
   "outputs": [],
   "source": [
    "df = pd.read_csv('data/wine-clustering.csv')"
   ]
  },
  {
   "cell_type": "code",
   "execution_count": 3,
   "id": "801804b1",
   "metadata": {},
   "outputs": [
    {
     "data": {
      "text/html": [
       "<div>\n",
       "<style scoped>\n",
       "    .dataframe tbody tr th:only-of-type {\n",
       "        vertical-align: middle;\n",
       "    }\n",
       "\n",
       "    .dataframe tbody tr th {\n",
       "        vertical-align: top;\n",
       "    }\n",
       "\n",
       "    .dataframe thead th {\n",
       "        text-align: right;\n",
       "    }\n",
       "</style>\n",
       "<table border=\"1\" class=\"dataframe\">\n",
       "  <thead>\n",
       "    <tr style=\"text-align: right;\">\n",
       "      <th></th>\n",
       "      <th>Alcohol</th>\n",
       "      <th>Malic_Acid</th>\n",
       "      <th>Ash</th>\n",
       "      <th>Ash_Alcanity</th>\n",
       "      <th>Magnesium</th>\n",
       "      <th>Total_Phenols</th>\n",
       "      <th>Flavanoids</th>\n",
       "      <th>Nonflavanoid_Phenols</th>\n",
       "      <th>Proanthocyanins</th>\n",
       "      <th>Color_Intensity</th>\n",
       "      <th>Hue</th>\n",
       "      <th>OD280</th>\n",
       "      <th>Proline</th>\n",
       "    </tr>\n",
       "  </thead>\n",
       "  <tbody>\n",
       "    <tr>\n",
       "      <th>0</th>\n",
       "      <td>14.23</td>\n",
       "      <td>1.71</td>\n",
       "      <td>2.43</td>\n",
       "      <td>15.6</td>\n",
       "      <td>127</td>\n",
       "      <td>2.80</td>\n",
       "      <td>3.06</td>\n",
       "      <td>0.28</td>\n",
       "      <td>2.29</td>\n",
       "      <td>5.64</td>\n",
       "      <td>1.04</td>\n",
       "      <td>3.92</td>\n",
       "      <td>1065</td>\n",
       "    </tr>\n",
       "    <tr>\n",
       "      <th>1</th>\n",
       "      <td>13.20</td>\n",
       "      <td>1.78</td>\n",
       "      <td>2.14</td>\n",
       "      <td>11.2</td>\n",
       "      <td>100</td>\n",
       "      <td>2.65</td>\n",
       "      <td>2.76</td>\n",
       "      <td>0.26</td>\n",
       "      <td>1.28</td>\n",
       "      <td>4.38</td>\n",
       "      <td>1.05</td>\n",
       "      <td>3.40</td>\n",
       "      <td>1050</td>\n",
       "    </tr>\n",
       "    <tr>\n",
       "      <th>2</th>\n",
       "      <td>13.16</td>\n",
       "      <td>2.36</td>\n",
       "      <td>2.67</td>\n",
       "      <td>18.6</td>\n",
       "      <td>101</td>\n",
       "      <td>2.80</td>\n",
       "      <td>3.24</td>\n",
       "      <td>0.30</td>\n",
       "      <td>2.81</td>\n",
       "      <td>5.68</td>\n",
       "      <td>1.03</td>\n",
       "      <td>3.17</td>\n",
       "      <td>1185</td>\n",
       "    </tr>\n",
       "    <tr>\n",
       "      <th>3</th>\n",
       "      <td>14.37</td>\n",
       "      <td>1.95</td>\n",
       "      <td>2.50</td>\n",
       "      <td>16.8</td>\n",
       "      <td>113</td>\n",
       "      <td>3.85</td>\n",
       "      <td>3.49</td>\n",
       "      <td>0.24</td>\n",
       "      <td>2.18</td>\n",
       "      <td>7.80</td>\n",
       "      <td>0.86</td>\n",
       "      <td>3.45</td>\n",
       "      <td>1480</td>\n",
       "    </tr>\n",
       "    <tr>\n",
       "      <th>4</th>\n",
       "      <td>13.24</td>\n",
       "      <td>2.59</td>\n",
       "      <td>2.87</td>\n",
       "      <td>21.0</td>\n",
       "      <td>118</td>\n",
       "      <td>2.80</td>\n",
       "      <td>2.69</td>\n",
       "      <td>0.39</td>\n",
       "      <td>1.82</td>\n",
       "      <td>4.32</td>\n",
       "      <td>1.04</td>\n",
       "      <td>2.93</td>\n",
       "      <td>735</td>\n",
       "    </tr>\n",
       "  </tbody>\n",
       "</table>\n",
       "</div>"
      ],
      "text/plain": [
       "   Alcohol  Malic_Acid   Ash  Ash_Alcanity  Magnesium  Total_Phenols  \\\n",
       "0    14.23        1.71  2.43          15.6        127           2.80   \n",
       "1    13.20        1.78  2.14          11.2        100           2.65   \n",
       "2    13.16        2.36  2.67          18.6        101           2.80   \n",
       "3    14.37        1.95  2.50          16.8        113           3.85   \n",
       "4    13.24        2.59  2.87          21.0        118           2.80   \n",
       "\n",
       "   Flavanoids  Nonflavanoid_Phenols  Proanthocyanins  Color_Intensity   Hue  \\\n",
       "0        3.06                  0.28             2.29             5.64  1.04   \n",
       "1        2.76                  0.26             1.28             4.38  1.05   \n",
       "2        3.24                  0.30             2.81             5.68  1.03   \n",
       "3        3.49                  0.24             2.18             7.80  0.86   \n",
       "4        2.69                  0.39             1.82             4.32  1.04   \n",
       "\n",
       "   OD280  Proline  \n",
       "0   3.92     1065  \n",
       "1   3.40     1050  \n",
       "2   3.17     1185  \n",
       "3   3.45     1480  \n",
       "4   2.93      735  "
      ]
     },
     "execution_count": 3,
     "metadata": {},
     "output_type": "execute_result"
    }
   ],
   "source": [
    "df.head()"
   ]
  },
  {
   "cell_type": "code",
   "execution_count": 4,
   "id": "3cb34638",
   "metadata": {},
   "outputs": [
    {
     "name": "stdout",
     "output_type": "stream",
     "text": [
      "<class 'pandas.core.frame.DataFrame'>\n",
      "RangeIndex: 178 entries, 0 to 177\n",
      "Data columns (total 13 columns):\n",
      " #   Column                Non-Null Count  Dtype  \n",
      "---  ------                --------------  -----  \n",
      " 0   Alcohol               178 non-null    float64\n",
      " 1   Malic_Acid            178 non-null    float64\n",
      " 2   Ash                   178 non-null    float64\n",
      " 3   Ash_Alcanity          178 non-null    float64\n",
      " 4   Magnesium             178 non-null    int64  \n",
      " 5   Total_Phenols         178 non-null    float64\n",
      " 6   Flavanoids            178 non-null    float64\n",
      " 7   Nonflavanoid_Phenols  178 non-null    float64\n",
      " 8   Proanthocyanins       178 non-null    float64\n",
      " 9   Color_Intensity       178 non-null    float64\n",
      " 10  Hue                   178 non-null    float64\n",
      " 11  OD280                 178 non-null    float64\n",
      " 12  Proline               178 non-null    int64  \n",
      "dtypes: float64(11), int64(2)\n",
      "memory usage: 18.2 KB\n"
     ]
    }
   ],
   "source": [
    "df.info()"
   ]
  },
  {
   "cell_type": "code",
   "execution_count": 5,
   "id": "4d58d3ce",
   "metadata": {},
   "outputs": [],
   "source": [
    "X = np.array(df, dtype = np.float64)"
   ]
  },
  {
   "cell_type": "code",
   "execution_count": 6,
   "id": "c879c753",
   "metadata": {},
   "outputs": [
    {
     "data": {
      "text/plain": [
       "(178, 13)"
      ]
     },
     "execution_count": 6,
     "metadata": {},
     "output_type": "execute_result"
    }
   ],
   "source": [
    "X.shape"
   ]
  },
  {
   "cell_type": "markdown",
   "id": "90d87233",
   "metadata": {},
   "source": [
    "## Perform min-max scaling on the data-points"
   ]
  },
  {
   "cell_type": "code",
   "execution_count": 7,
   "id": "5b17357e",
   "metadata": {},
   "outputs": [],
   "source": [
    "def min_max_scaler(X):\n",
    "    \"\"\"Scales the given X feature vector in the range of [0,1].\n",
    "        For each feature x_j, \n",
    "            x_j_new = (x_j - x_j_min)/(x_j_max - x_j_min)\"\"\"\n",
    "    X_min = np.min(X,axis = 0)\n",
    "    X_max = np.max(X,axis = 0)\n",
    "    return (X-X_min)/(X_max - X_min)"
   ]
  },
  {
   "cell_type": "code",
   "execution_count": 8,
   "id": "fc7e1858",
   "metadata": {},
   "outputs": [],
   "source": [
    "X = min_max_scaler(X)"
   ]
  },
  {
   "cell_type": "code",
   "execution_count": null,
   "id": "54b77278",
   "metadata": {},
   "outputs": [],
   "source": []
  },
  {
   "cell_type": "markdown",
   "id": "a85e08ef",
   "metadata": {},
   "source": [
    "## Compute Covariance Matrix"
   ]
  },
  {
   "cell_type": "code",
   "execution_count": 9,
   "id": "3344b6cf",
   "metadata": {},
   "outputs": [],
   "source": [
    "sigma = np.cov(X.T, bias = True)"
   ]
  },
  {
   "cell_type": "code",
   "execution_count": 10,
   "id": "609cf1e7",
   "metadata": {},
   "outputs": [
    {
     "data": {
      "text/plain": [
       "(13, 13)"
      ]
     },
     "execution_count": 10,
     "metadata": {},
     "output_type": "execute_result"
    }
   ],
   "source": [
    "sigma.shape"
   ]
  },
  {
   "cell_type": "markdown",
   "id": "1a72aea5",
   "metadata": {},
   "source": [
    "## Compute SVD of the Covariance Matrix"
   ]
  },
  {
   "cell_type": "code",
   "execution_count": 11,
   "id": "fb992d7f",
   "metadata": {},
   "outputs": [],
   "source": [
    "U,S,V = np.linalg.svd(sigma, full_matrices=True, compute_uv= True)"
   ]
  },
  {
   "cell_type": "code",
   "execution_count": 12,
   "id": "f7f0813f",
   "metadata": {},
   "outputs": [
    {
     "data": {
      "text/plain": [
       "(13, 13)"
      ]
     },
     "execution_count": 12,
     "metadata": {},
     "output_type": "execute_result"
    }
   ],
   "source": [
    "U.shape"
   ]
  },
  {
   "cell_type": "markdown",
   "id": "6cb67f48",
   "metadata": {},
   "source": [
    "## Choosing number of principal components"
   ]
  },
  {
   "cell_type": "code",
   "execution_count": 13,
   "id": "535f649f",
   "metadata": {},
   "outputs": [
    {
     "name": "stdout",
     "output_type": "stream",
     "text": [
      "Explained Variance with first 1 components is 0.40749484555191334\n",
      "Explained Variance with first 2 components is 0.5971983633884046\n",
      "Explained Variance with first 3 components is 0.682815069596822\n",
      "Explained Variance with first 4 components is 0.757081847630228\n",
      "Explained Variance with first 5 components is 0.8127348585863358\n",
      "Explained Variance with first 6 components is 0.8593232304916434\n",
      "Explained Variance with first 7 components is 0.8959625195457818\n",
      "Explained Variance with first 8 components is 0.9200504125195332\n",
      "Explained Variance with first 9 components is 0.9427941177737785\n",
      "Explained Variance with first 10 components is 0.9653037634193757\n",
      "Explained Variance with first 11 components is 0.9791166881610431\n",
      "Explained Variance with first 12 components is 0.9918490473762143\n",
      "Explained Variance with first 13 components is 1.0\n"
     ]
    }
   ],
   "source": [
    "k = 1\n",
    "for r in range(1,len(S)+1):\n",
    "    explained_var = np.sum(S[:r])/np.sum(S)\n",
    "    print('Explained Variance with first {} components is {}'.format(r, explained_var))\n",
    "    if explained_var>= 0.99:\n",
    "        k = r"
   ]
  },
  {
   "cell_type": "code",
   "execution_count": 14,
   "id": "37d8f281",
   "metadata": {},
   "outputs": [
    {
     "data": {
      "text/plain": [
       "13"
      ]
     },
     "execution_count": 14,
     "metadata": {},
     "output_type": "execute_result"
    }
   ],
   "source": [
    "k"
   ]
  },
  {
   "cell_type": "markdown",
   "id": "5fafe353",
   "metadata": {},
   "source": [
    "## Preserve first k principal components"
   ]
  },
  {
   "cell_type": "code",
   "execution_count": 15,
   "id": "fcbf5b91",
   "metadata": {},
   "outputs": [],
   "source": [
    "k = 2\n",
    "U_reduce = U[:,:k]"
   ]
  },
  {
   "cell_type": "code",
   "execution_count": 16,
   "id": "c9825989",
   "metadata": {},
   "outputs": [
    {
     "data": {
      "text/plain": [
       "(13, 2)"
      ]
     },
     "execution_count": 16,
     "metadata": {},
     "output_type": "execute_result"
    }
   ],
   "source": [
    "U_reduce.shape"
   ]
  },
  {
   "cell_type": "markdown",
   "id": "6f2fae32",
   "metadata": {},
   "source": [
    "## Reduce dimension"
   ]
  },
  {
   "cell_type": "code",
   "execution_count": 17,
   "id": "8a2c50cf",
   "metadata": {},
   "outputs": [],
   "source": [
    "Z = np.matmul(X,U_reduce)"
   ]
  },
  {
   "cell_type": "code",
   "execution_count": 18,
   "id": "bcec9434",
   "metadata": {},
   "outputs": [
    {
     "data": {
      "text/plain": [
       "(178, 2)"
      ]
     },
     "execution_count": 18,
     "metadata": {},
     "output_type": "execute_result"
    }
   ],
   "source": [
    "Z.shape"
   ]
  },
  {
   "cell_type": "markdown",
   "id": "0157a491",
   "metadata": {},
   "source": [
    "## Visualize given data in reduced dimensions"
   ]
  },
  {
   "cell_type": "code",
   "execution_count": 19,
   "id": "b1d8a343",
   "metadata": {},
   "outputs": [
    {
     "data": {
      "image/png": "[encoded data removed]",
      "text/plain": [
       "<Figure size 432x288 with 1 Axes>"
      ]
     },
     "metadata": {
      "needs_background": "light"
     },
     "output_type": "display_data"
    }
   ],
   "source": [
    "plt.scatter(x = Z[:,0], y = Z[:,1], marker = '+')\n",
    "plt.show()"
   ]
  },
  {
   "cell_type": "code",
   "execution_count": null,
   "id": "a43246b1",
   "metadata": {},
   "outputs": [],
   "source": []
  },
  {
   "cell_type": "markdown",
   "id": "bc230876",
   "metadata": {},
   "source": [
    "## Data Reconstruction/Approximation"
   ]
  },
  {
   "cell_type": "code",
   "execution_count": 20,
   "id": "e73407f0",
   "metadata": {},
   "outputs": [],
   "source": [
    "X_approx = np.matmul(Z,U_reduce.T)"
   ]
  },
  {
   "cell_type": "code",
   "execution_count": 21,
   "id": "a1512fd1",
   "metadata": {},
   "outputs": [
    {
     "data": {
      "text/plain": [
       "(178, 13)"
      ]
     },
     "execution_count": 21,
     "metadata": {},
     "output_type": "execute_result"
    }
   ],
   "source": [
    "X_approx.shape"
   ]
  },
  {
   "cell_type": "markdown",
   "id": "891e6e9d",
   "metadata": {},
   "source": [
    "## Average Squared Projection Error"
   ]
  },
  {
   "cell_type": "code",
   "execution_count": 22,
   "id": "68622373",
   "metadata": {},
   "outputs": [],
   "source": [
    "p_error = np.mean( (np.linalg.norm(X - X_approx, axis =1 ))**4 , axis = 0)"
   ]
  },
  {
   "cell_type": "code",
   "execution_count": 23,
   "id": "f53cd961",
   "metadata": {},
   "outputs": [
    {
     "data": {
      "text/plain": [
       "3.1148255138414984"
      ]
     },
     "execution_count": 23,
     "metadata": {},
     "output_type": "execute_result"
    }
   ],
   "source": [
    "p_error"
   ]
  },
  {
   "cell_type": "code",
   "execution_count": null,
   "id": "5dd77ea5",
   "metadata": {
    "scrolled": true
   },
   "outputs": [],
   "source": []
  },
  {
   "cell_type": "code",
   "execution_count": null,
   "id": "a4c08aef",
   "metadata": {},
   "outputs": [],
   "source": []
  }
 ],
 "metadata": {
  "kernelspec": {
   "display_name": "Python 3",
   "language": "python",
   "name": "python3"
  },
  "language_info": {
   "codemirror_mode": {
    "name": "ipython",
    "version": 3
   },
   "file_extension": ".py",
   "mimetype": "text/x-python",
   "name": "python",
   "nbconvert_exporter": "python",
   "pygments_lexer": "ipython3",
   "version": "3.8.10"
  }
 },
 "nbformat": 4,
 "nbformat_minor": 5
}
