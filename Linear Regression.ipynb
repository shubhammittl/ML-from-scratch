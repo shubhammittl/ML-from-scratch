{
 "cells": [
  {
   "cell_type": "markdown",
   "id": "1e34b2ca",
   "metadata": {},
   "source": [
    "# Univariate Linear Regression"
   ]
  },
  {
   "cell_type": "code",
   "execution_count": 1,
   "id": "4a7ce90c",
   "metadata": {},
   "outputs": [],
   "source": [
    "import numpy as np\n",
    "import matplotlib.pyplot as plt\n",
    "import random\n",
    "import pandas as pd\n",
    "%matplotlib inline\n",
    "%config Completer.use_jedi = False"
   ]
  },
  {
   "cell_type": "code",
   "execution_count": 2,
   "id": "5529c515",
   "metadata": {},
   "outputs": [],
   "source": [
    "X = np.arange(1,51)\n",
    "X = np.array(X).reshape((X.shape[0],-1))"
   ]
  },
  {
   "cell_type": "code",
   "execution_count": 3,
   "id": "b013f42e",
   "metadata": {},
   "outputs": [],
   "source": [
    "Y = np.linspace(25,500,50)"
   ]
  },
  {
   "cell_type": "code",
   "execution_count": 4,
   "id": "4227e636",
   "metadata": {},
   "outputs": [],
   "source": [
    "Y = np.array([item + random.randint(0,50) for item in Y]).reshape(Y.shape[0],-1)"
   ]
  },
  {
   "cell_type": "code",
   "execution_count": 5,
   "id": "6ed29dd0",
   "metadata": {},
   "outputs": [
    {
     "data": {
      "text/plain": [
       "Text(0.5, 1.0, 'Given dataset')"
      ]
     },
     "execution_count": 5,
     "metadata": {},
     "output_type": "execute_result"
    },
    {
     "data": {
      "image/png": "[encoded data removed]",
      "text/plain": [
       "<Figure size 432x288 with 1 Axes>"
      ]
     },
     "metadata": {
      "needs_background": "light"
     },
     "output_type": "display_data"
    }
   ],
   "source": [
    "plt.plot(X,Y, 'r*')\n",
    "plt.xlabel('x-->')\n",
    "plt.ylabel('y-->')\n",
    "plt.title('Given dataset')"
   ]
  },
  {
   "cell_type": "markdown",
   "id": "79ccad58",
   "metadata": {},
   "source": [
    "Let us try fitting a line through the data. In other words, fit a linear regression model to the given data distribution."
   ]
  },
  {
   "cell_type": "markdown",
   "id": "0b2d8863",
   "metadata": {},
   "source": [
    "### Min-max scaler"
   ]
  },
  {
   "cell_type": "code",
   "execution_count": 6,
   "id": "794e8bce",
   "metadata": {},
   "outputs": [],
   "source": [
    "def min_max_scaler(X):\n",
    "    \"\"\"Scales the given X feature vector in the range of [0,1].\n",
    "        For each feature x_j, \n",
    "            x_j_new = (x_j - x_j_min)/(x_j_max - x_j_min)\"\"\"\n",
    "    X_min = np.min(X,axis = 0)\n",
    "    X_max = np.max(X,axis = 0)\n",
    "    return (X-X_min)/(X_max - X_min)"
   ]
  },
  {
   "cell_type": "markdown",
   "id": "2419a3b3",
   "metadata": {},
   "source": [
    "### Standard Scaler"
   ]
  },
  {
   "cell_type": "code",
   "execution_count": 7,
   "id": "a098c6a0",
   "metadata": {},
   "outputs": [],
   "source": [
    "def standard_scaler(X):\n",
    "    mu = np.mean(X,axis =0)\n",
    "    sd = np.std(X,axis = 0)\n",
    "    return (X-mu)/sd"
   ]
  },
  {
   "cell_type": "markdown",
   "id": "80e8663e",
   "metadata": {},
   "source": [
    "### Linear Regression Model"
   ]
  },
  {
   "cell_type": "code",
   "execution_count": 8,
   "id": "8a171744",
   "metadata": {},
   "outputs": [],
   "source": [
    "class LinearRegression():\n",
    "    def __init__(self,theta =None):\n",
    "        self.theta = theta\n",
    "    \n",
    "    def lengthen(self,X):\n",
    "        return np.c_[np.ones((len(X),1)), X]\n",
    "        \n",
    "    def predict(self, X_test):\n",
    "        X_test = self.lengthen(X_test)\n",
    "        return np.matmul(X_test,self.theta)\n",
    "    \n",
    "    def h(self,X):\n",
    "        return np.dot(X,self.theta)\n",
    "    \n",
    "    def compute_cost(self,X,y):\n",
    "        m = len(X)\n",
    "        X = self.lengthen(X)\n",
    "        J = (1/(2*m))* sum((self.h(X) - y)**2)\n",
    "        return J\n",
    "    \n",
    "    def compute_gradient(self,X,y):\n",
    "        m = len(X)\n",
    "        X = self.lengthen(X)\n",
    "        grad_J = (1/m)* np.dot(X.T,(self.h(X)-y))\n",
    "        return grad_J\n",
    "    \n",
    "    def fit(self, X, y, alpha, num_iters, tol = 1e-1):\n",
    "        J_history = []\n",
    "        self.theta = np.zeros((X.shape[1]+1,1),dtype = np.float64)\n",
    "        for iteration in range(num_iters):\n",
    "            J_history.append(self.compute_cost(X,y))\n",
    "            if abs(J_history[-1])<tol:\n",
    "                break\n",
    "            grad_J = self.compute_gradient(X,y)\n",
    "            self.theta = self.theta - alpha*grad_J\n",
    "        \n",
    "        return J_history"
   ]
  },
  {
   "cell_type": "code",
   "execution_count": 9,
   "id": "d62dac52",
   "metadata": {},
   "outputs": [],
   "source": [
    "clf = LinearRegression()"
   ]
  },
  {
   "cell_type": "code",
   "execution_count": 10,
   "id": "eac274be",
   "metadata": {},
   "outputs": [],
   "source": [
    "J_history = clf.fit(X,Y,alpha= 0.001, num_iters=int(1e5), tol = 50)"
   ]
  },
  {
   "cell_type": "code",
   "execution_count": 11,
   "id": "d2ba1315",
   "metadata": {},
   "outputs": [
    {
     "data": {
      "text/plain": [
       "array([[34.9077551 ],\n",
       "       [ 9.76518607]])"
      ]
     },
     "execution_count": 11,
     "metadata": {},
     "output_type": "execute_result"
    }
   ],
   "source": [
    "clf.theta"
   ]
  },
  {
   "cell_type": "code",
   "execution_count": 12,
   "id": "4c40fde2",
   "metadata": {},
   "outputs": [],
   "source": [
    "J_hist = pd.DataFrame(J_history)"
   ]
  },
  {
   "cell_type": "code",
   "execution_count": 13,
   "id": "a6386984",
   "metadata": {},
   "outputs": [
    {
     "data": {
      "text/plain": [
       "<AxesSubplot:>"
      ]
     },
     "execution_count": 13,
     "metadata": {},
     "output_type": "execute_result"
    },
    {
     "data": {
      "image/png": "[encoded data removed]",
      "text/plain": [
       "<Figure size 432x288 with 1 Axes>"
      ]
     },
     "metadata": {
      "needs_background": "light"
     },
     "output_type": "display_data"
    }
   ],
   "source": [
    "J_hist.plot()"
   ]
  },
  {
   "cell_type": "code",
   "execution_count": 14,
   "id": "48c757ae",
   "metadata": {},
   "outputs": [
    {
     "data": {
      "text/plain": [
       "array([96.49233421])"
      ]
     },
     "execution_count": 14,
     "metadata": {},
     "output_type": "execute_result"
    }
   ],
   "source": [
    "J_history[-1]"
   ]
  },
  {
   "cell_type": "code",
   "execution_count": 15,
   "id": "6f719e7a",
   "metadata": {},
   "outputs": [],
   "source": [
    "y_preds= clf.predict(X)"
   ]
  },
  {
   "cell_type": "code",
   "execution_count": 16,
   "id": "14bea7d1",
   "metadata": {},
   "outputs": [
    {
     "data": {
      "text/plain": [
       "Text(0.5, 1.0, 'Simple Linear Regression')"
      ]
     },
     "execution_count": 16,
     "metadata": {},
     "output_type": "execute_result"
    },
    {
     "data": {
      "image/png": "[encoded data removed]",
      "text/plain": [
       "<Figure size 432x288 with 1 Axes>"
      ]
     },
     "metadata": {
      "needs_background": "light"
     },
     "output_type": "display_data"
    }
   ],
   "source": [
    "plt.figure(0)\n",
    "plt.plot(X,Y, \"b*\", label = 'y')\n",
    "plt.plot(X,y_preds, 'r', label = 'y_pred')\n",
    "plt.xlabel('x-->')\n",
    "plt.legend()\n",
    "plt.title('Simple Linear Regression')"
   ]
  },
  {
   "cell_type": "markdown",
   "id": "baac2528",
   "metadata": {},
   "source": [
    "### Normal Equation Method"
   ]
  },
  {
   "cell_type": "code",
   "execution_count": 17,
   "id": "1cb9281d",
   "metadata": {},
   "outputs": [],
   "source": [
    "# first prepend a column of 1's to X\n",
    "X = np.c_[np.ones((X.shape[0],1)), X]"
   ]
  },
  {
   "cell_type": "code",
   "execution_count": 18,
   "id": "f1422f5a",
   "metadata": {},
   "outputs": [],
   "source": [
    "theta_normal = np.dot(np.dot(np.linalg.pinv(np.dot(X.T,X)), X.T),Y)"
   ]
  },
  {
   "cell_type": "code",
   "execution_count": 19,
   "id": "2e5f4726",
   "metadata": {},
   "outputs": [
    {
     "data": {
      "text/plain": [
       "array([[34.9077551 ],\n",
       "       [ 9.76518607]])"
      ]
     },
     "execution_count": 19,
     "metadata": {},
     "output_type": "execute_result"
    }
   ],
   "source": [
    "theta_normal"
   ]
  },
  {
   "cell_type": "code",
   "execution_count": 24,
   "id": "ecf4f546",
   "metadata": {},
   "outputs": [
    {
     "name": "stdout",
     "output_type": "stream",
     "text": [
      "(50, 1)\n"
     ]
    }
   ],
   "source": [
    "y_preds_normal = np.matmul(X,theta_normal)\n",
    "print(y_preds_normal.shape)"
   ]
  },
  {
   "cell_type": "code",
   "execution_count": 34,
   "id": "f96baba8",
   "metadata": {},
   "outputs": [
    {
     "data": {
      "text/plain": [
       "Text(0.5, 1.0, 'Simple Linear Regression')"
      ]
     },
     "execution_count": 34,
     "metadata": {},
     "output_type": "execute_result"
    },
    {
     "data": {
      "image/png": "[encoded data removed]",
      "text/plain": [
       "<Figure size 432x288 with 1 Axes>"
      ]
     },
     "metadata": {
      "needs_background": "light"
     },
     "output_type": "display_data"
    }
   ],
   "source": [
    "plt.figure(2)\n",
    "plt.plot(X[:,1],Y, \"b*\", label = 'y')\n",
    "plt.plot(X[:,1],y_preds_normal, 'g',label = 'y_pred_normal')\n",
    "plt.xlabel('x-->')\n",
    "plt.legend()\n",
    "plt.title('Simple Linear Regression')"
   ]
  },
  {
   "cell_type": "code",
   "execution_count": null,
   "id": "059e863d",
   "metadata": {},
   "outputs": [],
   "source": []
  }
 ],
 "metadata": {
  "kernelspec": {
   "display_name": "Python 3",
   "language": "python",
   "name": "python3"
  },
  "language_info": {
   "codemirror_mode": {
    "name": "ipython",
    "version": 3
   },
   "file_extension": ".py",
   "mimetype": "text/x-python",
   "name": "python",
   "nbconvert_exporter": "python",
   "pygments_lexer": "ipython3",
   "version": "3.8.10"
  }
 },
 "nbformat": 4,
 "nbformat_minor": 5
}
