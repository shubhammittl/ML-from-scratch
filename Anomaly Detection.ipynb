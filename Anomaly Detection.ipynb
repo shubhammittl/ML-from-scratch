{
 "cells": [
  {
   "cell_type": "code",
   "execution_count": 1,
   "id": "a56d9629",
   "metadata": {},
   "outputs": [],
   "source": [
    "import numpy as np\n",
    "import pandas as pd\n",
    "import matplotlib.pyplot as plt\n",
    "from functools import reduce\n",
    "%matplotlib inline\n",
    "%config Completer.use_jedi = False\n",
    "from scipy.stats import multivariate_normal\n",
    "from sklearn.metrics import f1_score"
   ]
  },
  {
   "cell_type": "markdown",
   "id": "b6b169a6",
   "metadata": {},
   "source": [
    "## Read in the 2-D dataset"
   ]
  },
  {
   "cell_type": "code",
   "execution_count": 2,
   "id": "7617465d",
   "metadata": {},
   "outputs": [],
   "source": [
    "import scipy.io\n",
    "mat = scipy.io.loadmat('data/ex8data1.mat')"
   ]
  },
  {
   "cell_type": "code",
   "execution_count": 3,
   "id": "3d1244cc",
   "metadata": {},
   "outputs": [
    {
     "data": {
      "text/plain": [
       "dict_keys(['__header__', '__version__', '__globals__', 'X', 'Xval', 'yval'])"
      ]
     },
     "execution_count": 3,
     "metadata": {},
     "output_type": "execute_result"
    }
   ],
   "source": [
    "mat.keys()"
   ]
  },
  {
   "cell_type": "code",
   "execution_count": 4,
   "id": "531f020a",
   "metadata": {},
   "outputs": [
    {
     "data": {
      "text/plain": [
       "(307, 2)"
      ]
     },
     "execution_count": 4,
     "metadata": {},
     "output_type": "execute_result"
    }
   ],
   "source": [
    "X_train = np.array(mat['X'])\n",
    "X_train.shape"
   ]
  },
  {
   "cell_type": "code",
   "execution_count": 5,
   "id": "2e0a9efd",
   "metadata": {},
   "outputs": [
    {
     "data": {
      "text/plain": [
       "(307, 2)"
      ]
     },
     "execution_count": 5,
     "metadata": {},
     "output_type": "execute_result"
    }
   ],
   "source": [
    "X_val = np.array(mat['Xval'])\n",
    "X_val.shape"
   ]
  },
  {
   "cell_type": "code",
   "execution_count": 6,
   "id": "806daa47",
   "metadata": {},
   "outputs": [
    {
     "data": {
      "text/plain": [
       "(307, 1)"
      ]
     },
     "execution_count": 6,
     "metadata": {},
     "output_type": "execute_result"
    }
   ],
   "source": [
    "y_val = np.array(mat['yval'])\n",
    "y_val.shape"
   ]
  },
  {
   "cell_type": "markdown",
   "id": "ac57c16c",
   "metadata": {},
   "source": [
    "## Training"
   ]
  },
  {
   "cell_type": "markdown",
   "id": "5059198c",
   "metadata": {},
   "source": [
    "### Parameter Estimation"
   ]
  },
  {
   "cell_type": "code",
   "execution_count": 7,
   "id": "680eea00",
   "metadata": {},
   "outputs": [],
   "source": [
    "# estimate the mean \n",
    "mu = np.mean(X_train,axis = 0)\n",
    "\n",
    "# estimate the covariance\n",
    "sigma = np.cov(X_train.T,bias = True)"
   ]
  },
  {
   "cell_type": "code",
   "execution_count": 8,
   "id": "f2c0a43c",
   "metadata": {},
   "outputs": [
    {
     "data": {
      "text/plain": [
       "array([14.11222578, 14.99771051])"
      ]
     },
     "execution_count": 8,
     "metadata": {},
     "output_type": "execute_result"
    }
   ],
   "source": [
    "mu"
   ]
  },
  {
   "cell_type": "code",
   "execution_count": 9,
   "id": "1361633b",
   "metadata": {},
   "outputs": [
    {
     "data": {
      "text/plain": [
       "array([[ 1.83263141, -0.22712233],\n",
       "       [-0.22712233,  1.70974533]])"
      ]
     },
     "execution_count": 9,
     "metadata": {},
     "output_type": "execute_result"
    }
   ],
   "source": [
    "sigma"
   ]
  },
  {
   "cell_type": "markdown",
   "id": "5775748b",
   "metadata": {},
   "source": [
    "### Density Estimation"
   ]
  },
  {
   "cell_type": "code",
   "execution_count": 10,
   "id": "275d035f",
   "metadata": {},
   "outputs": [],
   "source": [
    "## estimate the Gaussian pdf\n",
    "def p_x(x,mu,sigma):\n",
    "    return multivariate_normal.pdf(X_train[i,:], mean=mu, cov= sigma)"
   ]
  },
  {
   "cell_type": "markdown",
   "id": "6238dc89",
   "metadata": {},
   "source": [
    "## Cross-validation and Threshold selection"
   ]
  },
  {
   "cell_type": "code",
   "execution_count": 11,
   "id": "91aeecd2",
   "metadata": {},
   "outputs": [],
   "source": [
    "p_xs_val = []\n",
    "for i in range(X_val.shape[0]):\n",
    "    p_xs_val.append(p_x(X_val[i,:], mu, sigma))"
   ]
  },
  {
   "cell_type": "code",
   "execution_count": 12,
   "id": "69ec8513",
   "metadata": {},
   "outputs": [
    {
     "name": "stdout",
     "output_type": "stream",
     "text": [
      "Best F1-score at thresh = 2.7186401253193168e-05, is 0.8974958263772955\n"
     ]
    }
   ],
   "source": [
    "f1s = []\n",
    "epsilons = np.linspace(min(p_xs_val), max(p_xs_val),10000)\n",
    "for epsilon in epsilons:\n",
    "    y_preds = (p_xs_val < epsilon).astype(int)\n",
    "    f1s.append(f1_score(y_val,y_preds, average = 'macro'))\n",
    "\n",
    "thresh = epsilons[np.argmax(f1s)]\n",
    "\n",
    "print('Best F1-score at thresh = {}, is {}'.format(thresh, np.max(f1s)))   "
   ]
  },
  {
   "cell_type": "markdown",
   "id": "73a37aeb",
   "metadata": {},
   "source": [
    "####  Plot Outliers"
   ]
  },
  {
   "cell_type": "code",
   "execution_count": 13,
   "id": "fba63803",
   "metadata": {},
   "outputs": [],
   "source": [
    "X_val_df = pd.DataFrame(X_val)"
   ]
  },
  {
   "cell_type": "code",
   "execution_count": 14,
   "id": "aa5df88e",
   "metadata": {},
   "outputs": [
    {
     "data": {
      "text/html": [
       "<div>\n",
       "<style scoped>\n",
       "    .dataframe tbody tr th:only-of-type {\n",
       "        vertical-align: middle;\n",
       "    }\n",
       "\n",
       "    .dataframe tbody tr th {\n",
       "        vertical-align: top;\n",
       "    }\n",
       "\n",
       "    .dataframe thead th {\n",
       "        text-align: right;\n",
       "    }\n",
       "</style>\n",
       "<table border=\"1\" class=\"dataframe\">\n",
       "  <thead>\n",
       "    <tr style=\"text-align: right;\">\n",
       "      <th></th>\n",
       "      <th>0</th>\n",
       "      <th>1</th>\n",
       "    </tr>\n",
       "  </thead>\n",
       "  <tbody>\n",
       "    <tr>\n",
       "      <th>0</th>\n",
       "      <td>15.790260</td>\n",
       "      <td>14.921024</td>\n",
       "    </tr>\n",
       "    <tr>\n",
       "      <th>1</th>\n",
       "      <td>13.639619</td>\n",
       "      <td>15.329955</td>\n",
       "    </tr>\n",
       "    <tr>\n",
       "      <th>2</th>\n",
       "      <td>14.865899</td>\n",
       "      <td>16.473865</td>\n",
       "    </tr>\n",
       "    <tr>\n",
       "      <th>3</th>\n",
       "      <td>13.584676</td>\n",
       "      <td>13.989306</td>\n",
       "    </tr>\n",
       "    <tr>\n",
       "      <th>4</th>\n",
       "      <td>13.464042</td>\n",
       "      <td>15.635330</td>\n",
       "    </tr>\n",
       "  </tbody>\n",
       "</table>\n",
       "</div>"
      ],
      "text/plain": [
       "           0          1\n",
       "0  15.790260  14.921024\n",
       "1  13.639619  15.329955\n",
       "2  14.865899  16.473865\n",
       "3  13.584676  13.989306\n",
       "4  13.464042  15.635330"
      ]
     },
     "execution_count": 14,
     "metadata": {},
     "output_type": "execute_result"
    }
   ],
   "source": [
    "X_val_df.head()"
   ]
  },
  {
   "cell_type": "code",
   "execution_count": 15,
   "id": "81b05d0e",
   "metadata": {},
   "outputs": [
    {
     "data": {
      "text/plain": [
       "<AxesSubplot:xlabel='0', ylabel='1'>"
      ]
     },
     "execution_count": 15,
     "metadata": {},
     "output_type": "execute_result"
    },
    {
     "data": {
      "image/png": "[encoded data removed]",
      "text/plain": [
       "<Figure size 432x288 with 1 Axes>"
      ]
     },
     "metadata": {
      "needs_background": "light"
     },
     "output_type": "display_data"
    }
   ],
   "source": [
    "X_val_df.plot.scatter(x = 0, y = 1, c = (p_xs_val<thresh).astype(int), cmap = 'coolwarm', colorbar = False)"
   ]
  },
  {
   "cell_type": "code",
   "execution_count": null,
   "id": "2c6f83f5",
   "metadata": {},
   "outputs": [],
   "source": []
  }
 ],
 "metadata": {
  "kernelspec": {
   "display_name": "Python 3",
   "language": "python",
   "name": "python3"
  },
  "language_info": {
   "codemirror_mode": {
    "name": "ipython",
    "version": 3
   },
   "file_extension": ".py",
   "mimetype": "text/x-python",
   "name": "python",
   "nbconvert_exporter": "python",
   "pygments_lexer": "ipython3",
   "version": "3.8.10"
  }
 },
 "nbformat": 4,
 "nbformat_minor": 5
}
