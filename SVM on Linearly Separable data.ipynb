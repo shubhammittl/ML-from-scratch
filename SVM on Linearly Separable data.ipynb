{
 "cells": [
  {
   "cell_type": "code",
   "execution_count": 1,
   "id": "f6201225",
   "metadata": {},
   "outputs": [],
   "source": [
    "import numpy as np\n",
    "import matplotlib.pyplot as plt\n",
    "import random\n",
    "import pandas as pd\n",
    "import seaborn as sns\n",
    "%matplotlib inline\n",
    "%config Completer.use_jedi = False"
   ]
  },
  {
   "cell_type": "markdown",
   "id": "2ec18fd5",
   "metadata": {},
   "source": [
    "## Logistic Regression on Linearly Separable data"
   ]
  },
  {
   "cell_type": "markdown",
   "id": "72b696d0",
   "metadata": {},
   "source": [
    "### Fetch data from a text file"
   ]
  },
  {
   "cell_type": "code",
   "execution_count": 2,
   "id": "6841132c",
   "metadata": {},
   "outputs": [],
   "source": [
    "df = pd.read_csv('data/linearly_separable.txt',sep = ',',header = None, names =['x1','x2','y'])"
   ]
  },
  {
   "cell_type": "code",
   "execution_count": 3,
   "id": "f89d8d04",
   "metadata": {},
   "outputs": [
    {
     "data": {
      "text/html": [
       "<div>\n",
       "<style scoped>\n",
       "    .dataframe tbody tr th:only-of-type {\n",
       "        vertical-align: middle;\n",
       "    }\n",
       "\n",
       "    .dataframe tbody tr th {\n",
       "        vertical-align: top;\n",
       "    }\n",
       "\n",
       "    .dataframe thead th {\n",
       "        text-align: right;\n",
       "    }\n",
       "</style>\n",
       "<table border=\"1\" class=\"dataframe\">\n",
       "  <thead>\n",
       "    <tr style=\"text-align: right;\">\n",
       "      <th></th>\n",
       "      <th>x1</th>\n",
       "      <th>x2</th>\n",
       "      <th>y</th>\n",
       "    </tr>\n",
       "  </thead>\n",
       "  <tbody>\n",
       "    <tr>\n",
       "      <th>0</th>\n",
       "      <td>34.623660</td>\n",
       "      <td>78.024693</td>\n",
       "      <td>0</td>\n",
       "    </tr>\n",
       "    <tr>\n",
       "      <th>1</th>\n",
       "      <td>30.286711</td>\n",
       "      <td>43.894998</td>\n",
       "      <td>0</td>\n",
       "    </tr>\n",
       "    <tr>\n",
       "      <th>2</th>\n",
       "      <td>35.847409</td>\n",
       "      <td>72.902198</td>\n",
       "      <td>0</td>\n",
       "    </tr>\n",
       "    <tr>\n",
       "      <th>3</th>\n",
       "      <td>60.182599</td>\n",
       "      <td>86.308552</td>\n",
       "      <td>1</td>\n",
       "    </tr>\n",
       "    <tr>\n",
       "      <th>4</th>\n",
       "      <td>79.032736</td>\n",
       "      <td>75.344376</td>\n",
       "      <td>1</td>\n",
       "    </tr>\n",
       "  </tbody>\n",
       "</table>\n",
       "</div>"
      ],
      "text/plain": [
       "          x1         x2  y\n",
       "0  34.623660  78.024693  0\n",
       "1  30.286711  43.894998  0\n",
       "2  35.847409  72.902198  0\n",
       "3  60.182599  86.308552  1\n",
       "4  79.032736  75.344376  1"
      ]
     },
     "execution_count": 3,
     "metadata": {},
     "output_type": "execute_result"
    }
   ],
   "source": [
    "df.head()"
   ]
  },
  {
   "cell_type": "code",
   "execution_count": 4,
   "id": "195a8f04",
   "metadata": {},
   "outputs": [
    {
     "name": "stdout",
     "output_type": "stream",
     "text": [
      "<class 'pandas.core.frame.DataFrame'>\n",
      "RangeIndex: 100 entries, 0 to 99\n",
      "Data columns (total 3 columns):\n",
      " #   Column  Non-Null Count  Dtype  \n",
      "---  ------  --------------  -----  \n",
      " 0   x1      100 non-null    float64\n",
      " 1   x2      100 non-null    float64\n",
      " 2   y       100 non-null    int64  \n",
      "dtypes: float64(2), int64(1)\n",
      "memory usage: 2.5 KB\n"
     ]
    }
   ],
   "source": [
    "df.info()"
   ]
  },
  {
   "cell_type": "code",
   "execution_count": 5,
   "id": "60bb8f0a",
   "metadata": {},
   "outputs": [
    {
     "data": {
      "text/html": [
       "<div>\n",
       "<style scoped>\n",
       "    .dataframe tbody tr th:only-of-type {\n",
       "        vertical-align: middle;\n",
       "    }\n",
       "\n",
       "    .dataframe tbody tr th {\n",
       "        vertical-align: top;\n",
       "    }\n",
       "\n",
       "    .dataframe thead th {\n",
       "        text-align: right;\n",
       "    }\n",
       "</style>\n",
       "<table border=\"1\" class=\"dataframe\">\n",
       "  <thead>\n",
       "    <tr style=\"text-align: right;\">\n",
       "      <th></th>\n",
       "      <th>x1</th>\n",
       "      <th>x2</th>\n",
       "    </tr>\n",
       "    <tr>\n",
       "      <th>y</th>\n",
       "      <th></th>\n",
       "      <th></th>\n",
       "    </tr>\n",
       "  </thead>\n",
       "  <tbody>\n",
       "    <tr>\n",
       "      <th>0</th>\n",
       "      <td>40</td>\n",
       "      <td>40</td>\n",
       "    </tr>\n",
       "    <tr>\n",
       "      <th>1</th>\n",
       "      <td>60</td>\n",
       "      <td>60</td>\n",
       "    </tr>\n",
       "  </tbody>\n",
       "</table>\n",
       "</div>"
      ],
      "text/plain": [
       "   x1  x2\n",
       "y        \n",
       "0  40  40\n",
       "1  60  60"
      ]
     },
     "execution_count": 5,
     "metadata": {},
     "output_type": "execute_result"
    }
   ],
   "source": [
    "df.groupby('y').count()"
   ]
  },
  {
   "cell_type": "code",
   "execution_count": 6,
   "id": "8892ca08",
   "metadata": {},
   "outputs": [],
   "source": [
    "X = np.array(df[['x1','x2']], dtype = np.float64)"
   ]
  },
  {
   "cell_type": "code",
   "execution_count": 291,
   "id": "7d8b6e68",
   "metadata": {},
   "outputs": [],
   "source": [
    "y = np.array(df[['y']])"
   ]
  },
  {
   "cell_type": "markdown",
   "id": "e44e52a7",
   "metadata": {},
   "source": [
    "### Visualize the data"
   ]
  },
  {
   "cell_type": "code",
   "execution_count": 8,
   "id": "c293e404",
   "metadata": {},
   "outputs": [
    {
     "data": {
      "text/plain": [
       "<AxesSubplot:xlabel='x1', ylabel='x2'>"
      ]
     },
     "execution_count": 8,
     "metadata": {},
     "output_type": "execute_result"
    },
    {
     "data": {
      "image/png": "[encoded data removed]",
      "text/plain": [
       "<Figure size 432x288 with 1 Axes>"
      ]
     },
     "metadata": {
      "needs_background": "light"
     },
     "output_type": "display_data"
    }
   ],
   "source": [
    "sns.scatterplot(data =df, x = 'x1', y = 'x2', hue = 'y')"
   ]
  },
  {
   "cell_type": "markdown",
   "id": "6a6bae11",
   "metadata": {},
   "source": [
    "### Scale Features"
   ]
  },
  {
   "cell_type": "code",
   "execution_count": 9,
   "id": "06a940b7",
   "metadata": {},
   "outputs": [],
   "source": [
    "def min_max_scaler(X):\n",
    "    \"\"\"Scales the given X feature vector in the range of [0,1].\n",
    "        For each feature x_j, \n",
    "            x_j_new = (x_j - x_j_min)/(x_j_max - x_j_min)\"\"\"\n",
    "    X_min = np.min(X,axis = 0)\n",
    "    X_max = np.max(X,axis = 0)\n",
    "    return (X-X_min)/(X_max - X_min)"
   ]
  },
  {
   "cell_type": "code",
   "execution_count": 10,
   "id": "506dce40",
   "metadata": {},
   "outputs": [],
   "source": [
    "X = min_max_scaler(X)"
   ]
  },
  {
   "cell_type": "markdown",
   "id": "1ed087d8",
   "metadata": {},
   "source": [
    "### Flatten the label vector "
   ]
  },
  {
   "cell_type": "code",
   "execution_count": 209,
   "id": "ac25e90e",
   "metadata": {},
   "outputs": [],
   "source": [
    "y = y.flatten()"
   ]
  },
  {
   "cell_type": "code",
   "execution_count": 11,
   "id": "1883f63a",
   "metadata": {},
   "outputs": [
    {
     "data": {
      "text/plain": [
       "(100, 2)"
      ]
     },
     "execution_count": 11,
     "metadata": {},
     "output_type": "execute_result"
    }
   ],
   "source": [
    "X.shape"
   ]
  },
  {
   "cell_type": "code",
   "execution_count": 12,
   "id": "7013a2b2",
   "metadata": {},
   "outputs": [
    {
     "data": {
      "text/plain": [
       "(100, 1)"
      ]
     },
     "execution_count": 12,
     "metadata": {},
     "output_type": "execute_result"
    }
   ],
   "source": [
    "y.shape"
   ]
  },
  {
   "cell_type": "code",
   "execution_count": 17,
   "id": "67f7008e",
   "metadata": {},
   "outputs": [
    {
     "data": {
      "text/plain": [
       "(2, 1)"
      ]
     },
     "execution_count": 17,
     "metadata": {},
     "output_type": "execute_result"
    }
   ],
   "source": [
    "r = np.random.rand(2,1)\n",
    "r.shape"
   ]
  },
  {
   "cell_type": "code",
   "execution_count": 28,
   "id": "e0659779",
   "metadata": {},
   "outputs": [
    {
     "data": {
      "text/plain": [
       "array([0, 2, 3, 0])"
      ]
     },
     "execution_count": 28,
     "metadata": {},
     "output_type": "execute_result"
    }
   ],
   "source": [
    "np.maximum(0, [-1, 2, 3, -2])"
   ]
  },
  {
   "cell_type": "code",
   "execution_count": 24,
   "id": "ac1127f9",
   "metadata": {},
   "outputs": [
    {
     "data": {
      "text/plain": [
       "array([[ True],\n",
       "       [False],\n",
       "       [ True],\n",
       "       [ True],\n",
       "       [ True],\n",
       "       [False],\n",
       "       [ True],\n",
       "       [False],\n",
       "       [ True],\n",
       "       [False]])"
      ]
     },
     "execution_count": 24,
     "metadata": {},
     "output_type": "execute_result"
    }
   ],
   "source": [
    "y = np.dot(X[:10],r)>0.5"
   ]
  },
  {
   "cell_type": "code",
   "execution_count": 175,
   "id": "a5af34e5",
   "metadata": {},
   "outputs": [],
   "source": [
    "r = np.array([0,-1, 0.5, 0.6, 0, -2])"
   ]
  },
  {
   "cell_type": "code",
   "execution_count": 176,
   "id": "c0d531fa",
   "metadata": {},
   "outputs": [
    {
     "data": {
      "text/plain": [
       "[0, 0, 1, 1, 0, 0]"
      ]
     },
     "execution_count": 176,
     "metadata": {},
     "output_type": "execute_result"
    }
   ],
   "source": [
    "q = [0 if el<=0 else 1 for el in r]\n",
    "q"
   ]
  },
  {
   "cell_type": "code",
   "execution_count": 177,
   "id": "8eb380ca",
   "metadata": {},
   "outputs": [
    {
     "data": {
      "text/plain": [
       "array([ 0. , -0. ,  0.5,  0.6,  0. , -0. ])"
      ]
     },
     "execution_count": 177,
     "metadata": {},
     "output_type": "execute_result"
    }
   ],
   "source": [
    "r*q"
   ]
  },
  {
   "cell_type": "code",
   "execution_count": 91,
   "id": "5f88af95",
   "metadata": {},
   "outputs": [],
   "source": [
    "r[r<0]=0"
   ]
  },
  {
   "cell_type": "code",
   "execution_count": 92,
   "id": "977ff725",
   "metadata": {},
   "outputs": [
    {
     "data": {
      "text/plain": [
       "array([0. , 0. , 0.5, 0.6, 0. , 0. ])"
      ]
     },
     "execution_count": 92,
     "metadata": {},
     "output_type": "execute_result"
    }
   ],
   "source": [
    "s = "
   ]
  },
  {
   "cell_type": "code",
   "execution_count": 293,
   "id": "102a8f77",
   "metadata": {},
   "outputs": [
    {
     "data": {
      "text/plain": [
       "(100, 1)"
      ]
     },
     "execution_count": 293,
     "metadata": {},
     "output_type": "execute_result"
    }
   ],
   "source": [
    "y.shape"
   ]
  },
  {
   "cell_type": "code",
   "execution_count": 292,
   "id": "2d891412",
   "metadata": {},
   "outputs": [
    {
     "data": {
      "text/plain": [
       "(100, 1)"
      ]
     },
     "execution_count": 292,
     "metadata": {},
     "output_type": "execute_result"
    }
   ],
   "source": [
    "((-1)**y).shape"
   ]
  },
  {
   "cell_type": "code",
   "execution_count": 186,
   "id": "fdb49f0b",
   "metadata": {},
   "outputs": [],
   "source": [
    "np.power((-1),y)"
   ]
  },
  {
   "cell_type": "code",
   "execution_count": 410,
   "id": "31ff34f2",
   "metadata": {},
   "outputs": [],
   "source": [
    "class SVM():\n",
    "    def __init__(self, theta = None, C =1.0):\n",
    "        self.theta = theta\n",
    "        self.C = C\n",
    "    \n",
    "    def lengthen(self,X):\n",
    "        return np.c_[np.ones((len(X),1)),X]\n",
    "    \n",
    "    def predict(self,X_test):\n",
    "        X_test = self.lengthen(X_test)\n",
    "        return np.sign(np.dot(X,self.theta))\n",
    "    \n",
    "    def h(self,X,M=1):\n",
    "        return np.sign(np.dot(X,self.theta))\n",
    "    \n",
    "    def compute_cost(self,X,y):\n",
    "        m = len(X)\n",
    "        X = self.lengthen(X)\n",
    "        J = 0.5*np.linalg.norm(self.theta)**2 +   self.C*(1/m)* np.sum( np.maximum(0, 1+ ((-1)**y)*self.h(X) ) )\n",
    "        return J\n",
    "    \n",
    "    def compute_gradient(self,X,y):\n",
    "        m = len(X)\n",
    "        X = self.lengthen(X)\n",
    "        grad_J = self.theta + (1/m)* np.array([ np.sum( np.multiply(np.array([[0 if el==0 else 1 for el in np.maximum(0, 1+ ((-1)**y)*self.h(X))]] ).T ,X),axis =0)]).T\n",
    "        return grad_J\n",
    "    \n",
    "    def fit(self, X, y, alpha =0.001, num_iters = 1000, tol = 1e-2):\n",
    "        J_history = []\n",
    "        self.theta = np.zeros((X.shape[1]+1,1))\n",
    "        for iteration in range(num_iters):\n",
    "            J_history.append(self.compute_cost(X,y))\n",
    "            if abs(J_history[-1])<tol:\n",
    "                break\n",
    "            grad_J = self.compute_gradient(X,y)\n",
    "            self.theta = self.theta - alpha*grad_J\n",
    "        \n",
    "        return J_history"
   ]
  },
  {
   "cell_type": "code",
   "execution_count": 411,
   "id": "2d10741e",
   "metadata": {},
   "outputs": [],
   "source": [
    "svm = SVM()#theta = np.random.randn(3,1))"
   ]
  },
  {
   "cell_type": "code",
   "execution_count": 415,
   "id": "a3b04669",
   "metadata": {},
   "outputs": [
    {
     "data": {
      "text/plain": [
       "<AxesSubplot:title={'center':'Learning curve of Logistic Regression classifier'}, xlabel='iteration', ylabel='Training Cost, J'>"
      ]
     },
     "execution_count": 415,
     "metadata": {},
     "output_type": "execute_result"
    },
    {
     "data": {
      "image/png": "[encoded data removed]",
      "text/plain": [
       "<Figure size 432x288 with 1 Axes>"
      ]
     },
     "metadata": {
      "needs_background": "light"
     },
     "output_type": "display_data"
    }
   ],
   "source": [
    "J_history = svm.fit(X,y, alpha = 0.1, num_iters = int(1e5), tol = 1e-2)\n",
    "\n",
    "pd.DataFrame(J_history).plot(xlabel= 'iteration', ylabel = 'Training Cost, J', title = 'Learning curve of Logistic Regression classifier')"
   ]
  },
  {
   "cell_type": "code",
   "execution_count": null,
   "id": "751134dd",
   "metadata": {},
   "outputs": [],
   "source": [
    "svm.compute_cost(X,y)"
   ]
  },
  {
   "cell_type": "code",
   "execution_count": 275,
   "id": "ad69ae12",
   "metadata": {},
   "outputs": [
    {
     "data": {
      "text/plain": [
       "array([0.16415341, 0.71859257, 1.16336209])"
      ]
     },
     "execution_count": 275,
     "metadata": {},
     "output_type": "execute_result"
    }
   ],
   "source": [
    "svm.compute_gradient(X,y)"
   ]
  },
  {
   "cell_type": "code",
   "execution_count": null,
   "id": "56cea9c0",
   "metadata": {},
   "outputs": [],
   "source": []
  },
  {
   "cell_type": "markdown",
   "id": "45f672af",
   "metadata": {},
   "source": [
    "### Fit Logistic Regression model"
   ]
  },
  {
   "cell_type": "code",
   "execution_count": 11,
   "id": "5b450ffc",
   "metadata": {},
   "outputs": [],
   "source": [
    "class LogisticRegression():\n",
    "    def __init__(self,theta =None):\n",
    "        self.theta = theta\n",
    "    \n",
    "    def lengthen(self,X):\n",
    "        return np.c_[np.ones((len(X),1)), X]\n",
    "    \n",
    "    def sigmoid(self,z):\n",
    "        return 1/(1 + np.exp(-z))\n",
    "        \n",
    "    def predict(self, X_test):\n",
    "        X_test = self.lengthen(X_test)\n",
    "        return self.sigmoid(np.matmul(X_test,self.theta))\n",
    "    \n",
    "    def h(self,X):\n",
    "        return self.sigmoid(np.dot(X,self.theta))\n",
    "    \n",
    "    def compute_cost(self,X,y):\n",
    "        m = len(X)\n",
    "        X = self.lengthen(X)\n",
    "        J = (-1/m)* sum( (y*np.log(self.h(X))) + ( (1-y)* np.log(1- self.h(X))) )\n",
    "        return J\n",
    "    \n",
    "    def compute_gradient(self,X,y):\n",
    "        m = len(X)\n",
    "        X = self.lengthen(X)\n",
    "        grad_J = (1/m)* np.dot(X.T,(self.h(X)-y))\n",
    "        return grad_J\n",
    "    \n",
    "    def fit(self, X, y, alpha =0.001, num_iters = 1000, tol = 1e-2):\n",
    "        J_history = []\n",
    "        self.theta = np.zeros((X.shape[1]+1,1))\n",
    "        for iteration in range(num_iters):\n",
    "            J_history.append(self.compute_cost(X,y))\n",
    "            if abs(J_history[-1])<tol:\n",
    "                break\n",
    "            grad_J = self.compute_gradient(X,y)\n",
    "            self.theta = self.theta - alpha*grad_J\n",
    "        \n",
    "        return J_history"
   ]
  },
  {
   "cell_type": "code",
   "execution_count": 12,
   "id": "f79fab4c",
   "metadata": {},
   "outputs": [],
   "source": [
    "clf = LogisticRegression()"
   ]
  },
  {
   "cell_type": "code",
   "execution_count": 13,
   "id": "6c83355b",
   "metadata": {},
   "outputs": [],
   "source": [
    "J_history = clf.fit(X,y, alpha = 0.1, num_iters = int(1e5), tol = 1e-2)"
   ]
  },
  {
   "cell_type": "code",
   "execution_count": 14,
   "id": "32864e5a",
   "metadata": {},
   "outputs": [
    {
     "data": {
      "text/plain": [
       "<AxesSubplot:title={'center':'Learning curve of Logistic Regression classifier'}, xlabel='iteration', ylabel='Training Cost, J'>"
      ]
     },
     "execution_count": 14,
     "metadata": {},
     "output_type": "execute_result"
    },
    {
     "data": {
      "image/png": "[encoded data removed]",
      "text/plain": [
       "<Figure size 432x288 with 1 Axes>"
      ]
     },
     "metadata": {
      "needs_background": "light"
     },
     "output_type": "display_data"
    }
   ],
   "source": [
    "pd.DataFrame(J_history).plot(xlabel= 'iteration', ylabel = 'Training Cost, J', title = 'Learning curve of Logistic Regression classifier')"
   ]
  },
  {
   "cell_type": "code",
   "execution_count": 15,
   "id": "7f320e33",
   "metadata": {},
   "outputs": [
    {
     "data": {
      "text/plain": [
       "array([[-12.65406006],\n",
       "       [ 14.23256197],\n",
       "       [ 13.599403  ]])"
      ]
     },
     "execution_count": 15,
     "metadata": {},
     "output_type": "execute_result"
    }
   ],
   "source": [
    "clf.theta"
   ]
  },
  {
   "cell_type": "markdown",
   "id": "2e1a4b2f",
   "metadata": {},
   "source": [
    "### Visualize the decision boundary obtained"
   ]
  },
  {
   "cell_type": "markdown",
   "id": "ae702d61",
   "metadata": {},
   "source": [
    "Decision boundary is given by:\n",
    "\n",
    "$\\theta_0 + \\theta_1 x_1 + \\theta_2 x_2 = 0$\n",
    "\n",
    "Given a value of $x_1$, we can find the value of $x_2$ as follows:\n",
    "\n",
    "$x_2 = - \\frac{(\\theta_0 + \\theta_1 x_1)} {\\theta_2}$\n",
    "    "
   ]
  },
  {
   "cell_type": "code",
   "execution_count": 16,
   "id": "5de3b515",
   "metadata": {},
   "outputs": [],
   "source": [
    "x1 = X[:,0]\n",
    "x2= - (clf.theta[0] + clf.theta[1]*x1)/clf.theta[2]"
   ]
  },
  {
   "cell_type": "code",
   "execution_count": 17,
   "id": "60d7f917",
   "metadata": {},
   "outputs": [
    {
     "data": {
      "image/png": "[encoded data removed]",
      "text/plain": [
       "<Figure size 720x576 with 1 Axes>"
      ]
     },
     "metadata": {
      "needs_background": "light"
     },
     "output_type": "display_data"
    }
   ],
   "source": [
    "plt.figure(1, figsize= (10,8))\n",
    "plt.scatter(X[:,0],X[:,1], c = y)\n",
    "plt.plot(x1,x2, 'r', label = 'Decision boundary')\n",
    "plt.xlabel('x_1 scaled')\n",
    "plt.ylabel('x_2 scaled')\n",
    "plt.title('Logistic Regression fitted over Linearly separable data')\n",
    "plt.show()"
   ]
  },
  {
   "cell_type": "code",
   "execution_count": null,
   "id": "e18ab201",
   "metadata": {},
   "outputs": [],
   "source": []
  }
 ],
 "metadata": {
  "kernelspec": {
   "display_name": "Python 3",
   "language": "python",
   "name": "python3"
  },
  "language_info": {
   "codemirror_mode": {
    "name": "ipython",
    "version": 3
   },
   "file_extension": ".py",
   "mimetype": "text/x-python",
   "name": "python",
   "nbconvert_exporter": "python",
   "pygments_lexer": "ipython3",
   "version": "3.8.10"
  }
 },
 "nbformat": 4,
 "nbformat_minor": 5
}
