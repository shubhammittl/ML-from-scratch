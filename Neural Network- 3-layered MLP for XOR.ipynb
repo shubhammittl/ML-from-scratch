{
 "cells": [
  {
   "cell_type": "code",
   "execution_count": 1,
   "id": "bc0bcdb1",
   "metadata": {},
   "outputs": [],
   "source": [
    "import numpy as np\n",
    "np.random.seed(123)\n",
    "import pandas as pd"
   ]
  },
  {
   "cell_type": "markdown",
   "id": "5941d3b9",
   "metadata": {},
   "source": [
    "## XOR Gate"
   ]
  },
  {
   "cell_type": "code",
   "execution_count": 2,
   "id": "0e35366d",
   "metadata": {},
   "outputs": [],
   "source": [
    "x1 = np.array([0,0])\n",
    "y1 = 0\n",
    "x2 = np.array([0,1])\n",
    "y2 = 1\n",
    "x3 = np.array([1,0])\n",
    "y3 = 1\n",
    "x4 = np.array([1,1])\n",
    "y4 = 0\n",
    "\n",
    "X = np.vstack((x1,x2,x3,x4)).T\n",
    "Y = np.vstack((y1,y2,y3,y4))\n",
    "\n",
    "# number of training examples\n",
    "m = X.shape[1]"
   ]
  },
  {
   "cell_type": "code",
   "execution_count": 3,
   "id": "d79bff29",
   "metadata": {},
   "outputs": [
    {
     "data": {
      "text/plain": [
       "array([[0, 0, 1, 1],\n",
       "       [0, 1, 0, 1]])"
      ]
     },
     "execution_count": 3,
     "metadata": {},
     "output_type": "execute_result"
    }
   ],
   "source": [
    "X"
   ]
  },
  {
   "cell_type": "code",
   "execution_count": 4,
   "id": "6580c354",
   "metadata": {},
   "outputs": [
    {
     "data": {
      "text/plain": [
       "array([[0],\n",
       "       [1],\n",
       "       [1],\n",
       "       [0]])"
      ]
     },
     "execution_count": 4,
     "metadata": {},
     "output_type": "execute_result"
    }
   ],
   "source": [
    "Y"
   ]
  },
  {
   "cell_type": "code",
   "execution_count": 5,
   "id": "aa00e076",
   "metadata": {},
   "outputs": [
    {
     "data": {
      "text/plain": [
       "4"
      ]
     },
     "execution_count": 5,
     "metadata": {},
     "output_type": "execute_result"
    }
   ],
   "source": [
    "m"
   ]
  },
  {
   "cell_type": "code",
   "execution_count": 6,
   "id": "849e7800",
   "metadata": {},
   "outputs": [],
   "source": [
    "class ANN():\n",
    "    def __init__(self, theta1 = None, theta2 = None):\n",
    "        self.theta1 = self.weight_init(2,2)\n",
    "        self.theta2 = self.weight_init(2,1)\n",
    "        self.delta1 = np.zeros(self.theta1.shape)\n",
    "        self.delta2 = np.zeros(self.theta2.shape)\n",
    "        \n",
    "    def weight_init(self, s_j,s_j_plus_1):\n",
    "        '''Returns a weight matrix having (num of nodes in next layer) rows \n",
    "        and (num of nodes in current layer +1) columns\n",
    "        '''\n",
    "        return np.random.randn(s_j_plus_1, s_j+1)\n",
    "    \n",
    "    def sigmoid(self,x):\n",
    "        return 1 / (1 + np.exp(-x))\n",
    "    \n",
    "    def forward_propagate(self,x):\n",
    "        ########################### FORWARD PASS ####################\n",
    "        ## Let's create a 3-layer network\n",
    "        # Layer 1 - 2 nodes (input)\n",
    "        # Layer 2 - 2 nodes (hidden)\n",
    "        # Layer 3 - 1 node (output)\n",
    "\n",
    "        # Layer-1\n",
    "        self.a_1 = x  # fetch input\n",
    "        self.a_1 = np.vstack((np.array([+1]),self.a_1)) # add fixed bias to it\n",
    "\n",
    "        # Layer-2\n",
    "        self.z_2 = np.matmul(self.theta1,self.a_1)  # compute superposition\n",
    "        self.a_2 = self.sigmoid(self.z_2)   # compute activation\n",
    "        self.a_2 = np.vstack((np.array([+1]),self.a_2)) # add fixed bias to activation vector\n",
    "\n",
    "        # Layer-3\n",
    "        self.z_3 = np.matmul(self.theta2,self.a_2) #compute superpostion\n",
    "        self.a_3 = self.sigmoid(self.z_3) # apply activation function\n",
    "        return self.a_3\n",
    "        \n",
    "    def back_propagate(self,y):\n",
    "        # local error gradient at final layer\n",
    "        self.del_3 = self.a_3 - y\n",
    "        # local error gradient at second layer\n",
    "        self.del_2 = np.matmul(self.theta2.T,self.del_3)*self.a_2*(1-self.a_2)\n",
    "        self.del_2 = self.del_2[1:,:]\n",
    "\n",
    "        self.delta2 = self.delta2 + np.matmul(self.del_3,self.a_2.T)\n",
    "        self.delta1 = self.delta1 + np.matmul(self.del_2,self.a_1.T)\n",
    "    \n",
    "    def compute_cost(self,X,Y, lamda = 0):\n",
    "        m = X.shape[1]\n",
    "        J = 0\n",
    "        for t in range(m):\n",
    "            x = np.array([X[:,t]]).T\n",
    "            y = np.array([Y[t]])\n",
    "            J += (-1/m) * ( y*np.log(self.forward_propagate(x)) +  (1-y)* np.log(1- self.forward_propagate(x)) )\n",
    "        J += (lamda/(2*m))*np.sum(np.sum(self.theta1**2))\n",
    "        J += (lamda/(2*m))*np.sum(np.sum(self.theta2**2))\n",
    "        return J[0][0]\n",
    "    \n",
    "    def compute_gradient(self,X,Y, lamda = 0):\n",
    "        m = X.shape[1]\n",
    "        for t in range(m):\n",
    "            x = np.array([X[:,t]]).T\n",
    "            y = np.array([Y[t]])\n",
    "        \n",
    "            self.forward_propagate(x)\n",
    "            self.back_propagate(y)\n",
    "            \n",
    "        grad_theta1 = (1/m) * (self.delta1  + lamda*self.theta1)\n",
    "        grad_theta1[0,:] = (1/m) * self.delta1[0,:]\n",
    "        \n",
    "        grad_theta2 = (1/m) * (self.delta2  + lamda*self.theta2)\n",
    "        grad_theta2[0,:] = (1/m) * self.delta2[0,:]\n",
    "        \n",
    "        return grad_theta1, grad_theta2\n",
    "    \n",
    "    def gradient_descent(self, X, Y, alpha =0.001, num_iters = 1000, tol = 1e-2, lamda = 0):\n",
    "        J_history = []\n",
    "        for iteration in range(num_iters):\n",
    "            J_history.append(self.compute_cost(X,Y, lamda))\n",
    "            if abs(J_history[-1])<tol:\n",
    "                break\n",
    "            grad_theta1, grad_theta2 = self.compute_gradient(X,Y, lamda)\n",
    "            self.theta1 = self.theta1 - alpha*grad_theta1\n",
    "            self.theta2 = self.theta2 - alpha*grad_theta2\n",
    "        \n",
    "        return J_history"
   ]
  },
  {
   "cell_type": "code",
   "execution_count": 22,
   "id": "6a94db64",
   "metadata": {},
   "outputs": [
    {
     "data": {
      "text/plain": [
       "array([[0.02968323, 1.06931597, 0.89070639],\n",
       "       [1.75488618, 1.49564414, 1.06939267]])"
      ]
     },
     "execution_count": 22,
     "metadata": {},
     "output_type": "execute_result"
    }
   ],
   "source": [
    "clf = ANN()\n",
    "clf.theta1"
   ]
  },
  {
   "cell_type": "code",
   "execution_count": 23,
   "id": "042067e6",
   "metadata": {},
   "outputs": [
    {
     "data": {
      "text/plain": [
       "<AxesSubplot:>"
      ]
     },
     "execution_count": 23,
     "metadata": {},
     "output_type": "execute_result"
    },
    {
     "data": {
      "image/png": "[encoded data removed]",
      "text/plain": [
       "<Figure size 432x288 with 1 Axes>"
      ]
     },
     "metadata": {
      "needs_background": "light"
     },
     "output_type": "display_data"
    }
   ],
   "source": [
    "J_history = clf.gradient_descent(X,Y, alpha = 0.1, num_iters = 1000, tol = 1e-5, lamda = 0)\n",
    "pd.DataFrame(J_history).plot()"
   ]
  },
  {
   "cell_type": "code",
   "execution_count": 24,
   "id": "4436127e",
   "metadata": {},
   "outputs": [
    {
     "name": "stdout",
     "output_type": "stream",
     "text": [
      "Predicted label of \n",
      "[[0]\n",
      " [0]] is \n",
      "[[2.12415223e-06]]\n",
      "Predicted label of \n",
      "[[0]\n",
      " [1]] is \n",
      "[[0.99999873]]\n",
      "Predicted label of \n",
      "[[1]\n",
      " [0]] is \n",
      "[[0.99996919]]\n",
      "Predicted label of \n",
      "[[1]\n",
      " [1]] is \n",
      "[[5.44091602e-06]]\n"
     ]
    }
   ],
   "source": [
    "for t in range(m):\n",
    "    \n",
    "    print('Predicted label of \\n{} is \\n{}'.format(np.array([X[:,t]]).T,clf.forward_propagate(np.array([X[:,t]]).T)) )"
   ]
  },
  {
   "cell_type": "code",
   "execution_count": null,
   "id": "52b0a350",
   "metadata": {},
   "outputs": [],
   "source": []
  }
 ],
 "metadata": {
  "kernelspec": {
   "display_name": "Python 3",
   "language": "python",
   "name": "python3"
  },
  "language_info": {
   "codemirror_mode": {
    "name": "ipython",
    "version": 3
   },
   "file_extension": ".py",
   "mimetype": "text/x-python",
   "name": "python",
   "nbconvert_exporter": "python",
   "pygments_lexer": "ipython3",
   "version": "3.8.10"
  }
 },
 "nbformat": 4,
 "nbformat_minor": 5
}
