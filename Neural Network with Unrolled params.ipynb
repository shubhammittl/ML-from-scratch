{
 "cells": [
  {
   "cell_type": "code",
   "execution_count": 53,
   "id": "bf9a24e4",
   "metadata": {},
   "outputs": [
    {
     "data": {
      "text/plain": [
       "array([[  0.2,   0.3,   0.4],\n",
       "       [  0.3, -35. ,  -8. ]])"
      ]
     },
     "execution_count": 53,
     "metadata": {},
     "output_type": "execute_result"
    }
   ],
   "source": [
    "import numpy as np\n",
    "grad_theta1 = np.array([[0.2, 0.3, 0.4],[0.3, -35, -8]])\n",
    "grad_theta1"
   ]
  },
  {
   "cell_type": "code",
   "execution_count": 54,
   "id": "b791b9f7",
   "metadata": {},
   "outputs": [
    {
     "data": {
      "text/plain": [
       "array([[-2,  3],\n",
       "       [ 3, -5]])"
      ]
     },
     "execution_count": 54,
     "metadata": {},
     "output_type": "execute_result"
    }
   ],
   "source": [
    "grad_theta2 = np.array([[-2, 3],[3, -5]])\n",
    "grad_theta2"
   ]
  },
  {
   "cell_type": "code",
   "execution_count": 55,
   "id": "1f7869fa",
   "metadata": {},
   "outputs": [
    {
     "data": {
      "text/plain": [
       "array([[-2,  3,  1]])"
      ]
     },
     "execution_count": 55,
     "metadata": {},
     "output_type": "execute_result"
    }
   ],
   "source": [
    "grad_theta3 = np.array([[-2, 3, 1]])\n",
    "grad_theta3"
   ]
  },
  {
   "cell_type": "code",
   "execution_count": 56,
   "id": "06fa8afa",
   "metadata": {},
   "outputs": [
    {
     "data": {
      "text/plain": [
       "[array([[  0.2,   0.3,   0.4],\n",
       "        [  0.3, -35. ,  -8. ]]),\n",
       " array([[-2,  3],\n",
       "        [ 3, -5]]),\n",
       " array([[-2,  3,  1]])]"
      ]
     },
     "execution_count": 56,
     "metadata": {},
     "output_type": "execute_result"
    }
   ],
   "source": [
    "grad = [grad_theta1, grad_theta2, grad_theta3]\n",
    "grad"
   ]
  },
  {
   "cell_type": "code",
   "execution_count": 57,
   "id": "1aaad2dc",
   "metadata": {},
   "outputs": [
    {
     "data": {
      "text/plain": [
       "[0.2, 0.3, 0.4, 0.3, -35.0, -8.0, -2, 3, 3, -5, -2, 3, 1]"
      ]
     },
     "execution_count": 57,
     "metadata": {},
     "output_type": "execute_result"
    }
   ],
   "source": [
    "[item for ar in np.array(list_of_mat, dtype = object).flatten() for item in ar.flatten()]"
   ]
  },
  {
   "cell_type": "code",
   "execution_count": 69,
   "id": "3ba8aaef",
   "metadata": {},
   "outputs": [
    {
     "data": {
      "text/plain": [
       "array([[  0.2],\n",
       "       [  0.3],\n",
       "       [  0.4],\n",
       "       [  0.3],\n",
       "       [-35. ],\n",
       "       [ -8. ],\n",
       "       [ -2. ],\n",
       "       [  3. ],\n",
       "       [  3. ],\n",
       "       [ -5. ],\n",
       "       [ -2. ],\n",
       "       [  3. ],\n",
       "       [  1. ]])"
      ]
     },
     "execution_count": 69,
     "metadata": {},
     "output_type": "execute_result"
    }
   ],
   "source": [
    "np.array([[item for ar in np.array(grad, dtype = object).flatten() for item in ar.flatten()]]).T"
   ]
  },
  {
   "cell_type": "code",
   "execution_count": 84,
   "id": "91563d38",
   "metadata": {},
   "outputs": [],
   "source": [
    "import numpy as np\n",
    "import matplotlib.pyplot as plt\n",
    "import random\n",
    "import pandas as pd\n",
    "import seaborn as sns\n",
    "%matplotlib inline\n",
    "#%config Completer.use_jedi = False\n",
    "np.random.seed(123)\n",
    "from scipy.optimize import minimize"
   ]
  },
  {
   "cell_type": "markdown",
   "id": "b7994cf5",
   "metadata": {},
   "source": [
    "### Define ANN Classifier"
   ]
  },
  {
   "cell_type": "code",
   "execution_count": 173,
   "id": "cb41dae2",
   "metadata": {},
   "outputs": [],
   "source": [
    "class ANN():\n",
    "    def __init__(self, nodes_in_layer = (2,2,1)):\n",
    "        # total layers in network\n",
    "        self.L = len(nodes_in_layer)\n",
    "        # parameters/theta\n",
    "        self.theta = []\n",
    "        for i in range(self.L-1):\n",
    "            self.theta.append(self.weight_init(nodes_in_layer[i],nodes_in_layer[i+1]))\n",
    "            \n",
    "        # unroll theta into a vector\n",
    "        self.theta_flat = self.unroll(self.theta)\n",
    "        \n",
    "        # Accumulator of error\n",
    "        self.delta = [np.zeros(theta_mat.shape) for theta_mat in self.theta]\n",
    "        # Activations\n",
    "        self.a = [np.zeros((n_nodes+1,1)) if layer_idx !=self.L-1 \\\n",
    "                  else np.zeros((n_nodes,1)) \\\n",
    "                  for (layer_idx,n_nodes) in list(enumerate(nodes_in_layer))]\n",
    "        # Local error gradients\n",
    "        self.d = [np.zeros((n_nodes,1)) for n_nodes in nodes_in_layer]\n",
    "\n",
    "    def weight_init(self, s_j,s_j_plus_1):\n",
    "        '''Returns a weight matrix having (num of nodes in next layer) rows \n",
    "        and (num of nodes in current layer +1) columns\n",
    "        '''\n",
    "        return np.random.randn(s_j_plus_1, s_j+1)*np.sqrt(2/s_j) # He initialization\n",
    "    \n",
    "    def sigmoid(self,x):\n",
    "        '''Returns the vector after applying sigmoid activation to its elements'''\n",
    "        return 1 / (1 + np.exp(-x))\n",
    "    \n",
    "    def unroll(self, list_of_mat):\n",
    "        '''Returns a column vector by unrolling the list of matrices'''\n",
    "        return np.array([[item for ar in np.array(list_of_mat, dtype = object).flatten() for item in ar.flatten()]]).T\n",
    "    \n",
    "    def forward_propagate(self,x):\n",
    "        '''Forward pass the example x through the network'''\n",
    "        for l in range(self.L):\n",
    "            if l == 0: #input layer\n",
    "                self.a[l] = x\n",
    "            else:\n",
    "                #print(self.theta[l].shape)\n",
    "                # add fixed bias to the previous layer activation\n",
    "                self.a[l-1] = np.vstack((np.array([+1]),self.a[l-1]))\n",
    "                # matrix multiply with weight matrix\n",
    "                # apply sigmoid to obtain current layer activation\n",
    "                self.a[l] = self.sigmoid(np.matmul(self.theta[l-1], self.a[l-1]))\n",
    "        return self.a[-1] #last layer activation\n",
    "        \n",
    "    def back_propagate(self,y):\n",
    "        # local error gradient at final layer\n",
    "        self.d[self.L-1] = self.a[-1] -y\n",
    "        # local error gradient at previous layers upto second layer\n",
    "        for l in range(self.L-2,0,-1):            \n",
    "            self.d[l] = ( np.matmul(self.theta[l].T,self.d[l+1]) * self.a[l] * (1-self.a[l]) )[1:]\n",
    "        # accumulate error gradient\n",
    "        for l in range(len(self.delta)):\n",
    "            self.delta[l] = self.delta[l] + np.matmul(self.d[l+1],self.a[l].T)\n",
    "        \n",
    "    def compute_cost(self,X,Y, lamda = 0):\n",
    "        m = len(X)\n",
    "        J = 0\n",
    "        reg_penalty = 0\n",
    "        for t in range(m):\n",
    "            x = np.array([X[t]]).T\n",
    "            y = np.array([Y[t]])\n",
    "            J += (-1/m) * ( y*np.log(self.forward_propagate(x)) +  (1-y)* np.log(1- self.forward_propagate(x)) )\n",
    "        for theta_mat in self.theta:\n",
    "            reg_penalty +=(lamda/(2*m))*np.sum(np.sum(theta_mat**2))\n",
    "        J += reg_penalty\n",
    "        return J[0][0]\n",
    "    \n",
    "    def compute_gradient(self,X,Y, lamda = 0):\n",
    "        m = len(X)\n",
    "        for t in range(m):\n",
    "            x = np.array([X[t]]).T\n",
    "            y = np.array([Y[t]])\n",
    "        \n",
    "            self.forward_propagate(x)\n",
    "            self.back_propagate(y)\n",
    "            \n",
    "        grad_theta = []\n",
    "        for l in range(len(self.theta)):\n",
    "            gradient = (1/m) * (self.delta[l]  + lamda*self.theta[l])\n",
    "            gradient[0,:] = (1/m)* self.delta[l][0,:]\n",
    "            grad_theta.append(gradient)\n",
    "        return grad_theta#self.unroll(grad_theta)\n",
    "    \n",
    "    def fit(self, X, Y, alpha =0.001, num_iters = 1000, tol = 1e-2, lamda = 0):\n",
    "        '''Fits the network to given examples (X,Y) using Batch Gradient Descent'''\n",
    "        J_history = []\n",
    "        for iteration in range(num_iters):\n",
    "            J_history.append(self.compute_cost(X,Y, lamda))\n",
    "            if abs(J_history[-1])<tol:\n",
    "                break\n",
    "            grad_theta = self.compute_gradient(X,Y, lamda)\n",
    "            #self.theta = self.theta - alpha*grad_theta\n",
    "            self.theta = [thet - alpha*grad_thet for thet, grad_thet in zip(self.theta, grad_theta)]\n",
    "        return J_history\n",
    "    \n",
    "    def fit_lbfgs(self, X, Y, lamda = 0):\n",
    "        # perform the bfgs algorithm search\n",
    "        result = minimize(fun = self.compute_cost, x0 = self.unroll(self.theta), method='BFGS',\n",
    "                          args = (X,Y))#,jac=self.compute_gradient)\n",
    "        # summarize the result\n",
    "        print('Status : %s' % result['message'])\n",
    "        print('Total Evaluations: %d' % result['nfev'])\n",
    "        # evaluate solution\n",
    "        solution = result['x']\n",
    "        evaluation = objective(solution)\n",
    "        print('Solution: f(%s) = %.5f' % (solution, evaluation))\n",
    "    \n",
    "    def predict(self,X_test):\n",
    "        y_preds = []\n",
    "        for x in X_test:\n",
    "            y_preds.append(self.forward_propagate(np.array([x]).T)[0][0])\n",
    "        return np.array([y_preds]).T\n",
    "            "
   ]
  },
  {
   "cell_type": "markdown",
   "id": "707bd87f",
   "metadata": {},
   "source": [
    "### Solve XOR problem"
   ]
  },
  {
   "cell_type": "code",
   "execution_count": 174,
   "id": "34da9155",
   "metadata": {},
   "outputs": [],
   "source": [
    "x1 = np.array([0,0])\n",
    "y1 = 0\n",
    "x2 = np.array([0,1])\n",
    "y2 = 1\n",
    "x3 = np.array([1,0])\n",
    "y3 = 1\n",
    "x4 = np.array([1,1])\n",
    "y4 = 0\n",
    "\n",
    "X = np.vstack((x1,x2,x3,x4))\n",
    "Y = np.vstack((y1,y2,y3,y4))\n",
    "\n",
    "# number of training examples\n",
    "m = len(X)"
   ]
  },
  {
   "cell_type": "code",
   "execution_count": 175,
   "id": "d9c2d80c",
   "metadata": {},
   "outputs": [
    {
     "data": {
      "text/plain": [
       "array([[0, 0],\n",
       "       [0, 1],\n",
       "       [1, 0],\n",
       "       [1, 1]])"
      ]
     },
     "execution_count": 175,
     "metadata": {},
     "output_type": "execute_result"
    }
   ],
   "source": [
    "X"
   ]
  },
  {
   "cell_type": "code",
   "execution_count": 176,
   "id": "94b98117",
   "metadata": {},
   "outputs": [
    {
     "data": {
      "text/plain": [
       "array([[0],\n",
       "       [1],\n",
       "       [1],\n",
       "       [0]])"
      ]
     },
     "execution_count": 176,
     "metadata": {},
     "output_type": "execute_result"
    }
   ],
   "source": [
    "Y"
   ]
  },
  {
   "cell_type": "code",
   "execution_count": 177,
   "id": "bd126600",
   "metadata": {},
   "outputs": [
    {
     "data": {
      "text/plain": [
       "4"
      ]
     },
     "execution_count": 177,
     "metadata": {},
     "output_type": "execute_result"
    }
   ],
   "source": [
    "m"
   ]
  },
  {
   "cell_type": "code",
   "execution_count": 178,
   "id": "9cccac8b",
   "metadata": {},
   "outputs": [],
   "source": [
    "clf = ANN()"
   ]
  },
  {
   "cell_type": "code",
   "execution_count": 179,
   "id": "3ee83d06",
   "metadata": {},
   "outputs": [
    {
     "data": {
      "text/plain": [
       "<AxesSubplot:>"
      ]
     },
     "execution_count": 179,
     "metadata": {},
     "output_type": "execute_result"
    },
    {
     "data": {
      "image/png": "[encoded data removed]",
      "text/plain": [
       "<Figure size 432x288 with 1 Axes>"
      ]
     },
     "metadata": {
      "needs_background": "light"
     },
     "output_type": "display_data"
    }
   ],
   "source": [
    "J_history = clf.fit(X,Y)\n",
    "pd.DataFrame(J_history).plot()"
   ]
  },
  {
   "cell_type": "code",
   "execution_count": 180,
   "id": "28e5b0d6",
   "metadata": {},
   "outputs": [
    {
     "name": "stdout",
     "output_type": "stream",
     "text": [
      "Predicted label of \n",
      "[[0]\n",
      " [0]] is \n",
      "[[0.32399381]]\n",
      "Predicted label of \n",
      "[[0]\n",
      " [1]] is \n",
      "[[0.46074408]]\n",
      "Predicted label of \n",
      "[[1]\n",
      " [0]] is \n",
      "[[0.91948993]]\n",
      "Predicted label of \n",
      "[[1]\n",
      " [1]] is \n",
      "[[0.18116971]]\n"
     ]
    }
   ],
   "source": [
    "for t in range(m):\n",
    "    print('Predicted label of \\n{} is \\n{}'.format(np.array([X[t]]).T,clf.forward_propagate(np.array([X[t]]).T)) )"
   ]
  },
  {
   "cell_type": "code",
   "execution_count": 181,
   "id": "b3a24e52",
   "metadata": {},
   "outputs": [
    {
     "data": {
      "text/plain": [
       "array([[0.32399381],\n",
       "       [0.46074408],\n",
       "       [0.91948993],\n",
       "       [0.18116971]])"
      ]
     },
     "execution_count": 181,
     "metadata": {},
     "output_type": "execute_result"
    }
   ],
   "source": [
    "clf.predict(X)"
   ]
  },
  {
   "cell_type": "code",
   "execution_count": 182,
   "id": "e5a0ba3c",
   "metadata": {},
   "outputs": [
    {
     "data": {
      "text/plain": [
       "[array([[ 0.28363615, -2.24005148,  1.22268673],\n",
       "        [ 3.65801141, -5.95858707,  6.86485582]]),\n",
       " array([[ 2.54124836,  2.83875772, -5.02229859]])]"
      ]
     },
     "execution_count": 182,
     "metadata": {},
     "output_type": "execute_result"
    }
   ],
   "source": [
    "clf.theta"
   ]
  },
  {
   "cell_type": "code",
   "execution_count": 183,
   "id": "f6d47e4b",
   "metadata": {},
   "outputs": [
    {
     "data": {
      "text/plain": [
       "array([[ 0.42614664],\n",
       "       [-1.60540974],\n",
       "       [-0.4276796 ],\n",
       "       [ 1.24286955],\n",
       "       [-0.73521696],\n",
       "       [ 0.50124899],\n",
       "       [ 1.01273905],\n",
       "       [ 0.27874086],\n",
       "       [-1.37094847]])"
      ]
     },
     "execution_count": 183,
     "metadata": {},
     "output_type": "execute_result"
    }
   ],
   "source": [
    "clf.theta_flat"
   ]
  },
  {
   "cell_type": "markdown",
   "id": "d3e4a019",
   "metadata": {},
   "source": [
    "### Classify Non-linearly separable data using ANN"
   ]
  },
  {
   "cell_type": "code",
   "execution_count": 11,
   "id": "ab78bc38",
   "metadata": {},
   "outputs": [],
   "source": [
    "df = pd.read_csv('data/linearly_inseparable.txt',sep=',', header= None, names= 'x1 x2 y'.split())"
   ]
  },
  {
   "cell_type": "code",
   "execution_count": 12,
   "id": "a4401643",
   "metadata": {},
   "outputs": [
    {
     "data": {
      "text/html": [
       "<div>\n",
       "<style scoped>\n",
       "    .dataframe tbody tr th:only-of-type {\n",
       "        vertical-align: middle;\n",
       "    }\n",
       "\n",
       "    .dataframe tbody tr th {\n",
       "        vertical-align: top;\n",
       "    }\n",
       "\n",
       "    .dataframe thead th {\n",
       "        text-align: right;\n",
       "    }\n",
       "</style>\n",
       "<table border=\"1\" class=\"dataframe\">\n",
       "  <thead>\n",
       "    <tr style=\"text-align: right;\">\n",
       "      <th></th>\n",
       "      <th>x1</th>\n",
       "      <th>x2</th>\n",
       "      <th>y</th>\n",
       "    </tr>\n",
       "  </thead>\n",
       "  <tbody>\n",
       "    <tr>\n",
       "      <th>0</th>\n",
       "      <td>0.051267</td>\n",
       "      <td>0.69956</td>\n",
       "      <td>1</td>\n",
       "    </tr>\n",
       "    <tr>\n",
       "      <th>1</th>\n",
       "      <td>-0.092742</td>\n",
       "      <td>0.68494</td>\n",
       "      <td>1</td>\n",
       "    </tr>\n",
       "    <tr>\n",
       "      <th>2</th>\n",
       "      <td>-0.213710</td>\n",
       "      <td>0.69225</td>\n",
       "      <td>1</td>\n",
       "    </tr>\n",
       "    <tr>\n",
       "      <th>3</th>\n",
       "      <td>-0.375000</td>\n",
       "      <td>0.50219</td>\n",
       "      <td>1</td>\n",
       "    </tr>\n",
       "    <tr>\n",
       "      <th>4</th>\n",
       "      <td>-0.513250</td>\n",
       "      <td>0.46564</td>\n",
       "      <td>1</td>\n",
       "    </tr>\n",
       "  </tbody>\n",
       "</table>\n",
       "</div>"
      ],
      "text/plain": [
       "         x1       x2  y\n",
       "0  0.051267  0.69956  1\n",
       "1 -0.092742  0.68494  1\n",
       "2 -0.213710  0.69225  1\n",
       "3 -0.375000  0.50219  1\n",
       "4 -0.513250  0.46564  1"
      ]
     },
     "execution_count": 12,
     "metadata": {},
     "output_type": "execute_result"
    }
   ],
   "source": [
    "df.head()"
   ]
  },
  {
   "cell_type": "code",
   "execution_count": 13,
   "id": "b5a9639c",
   "metadata": {},
   "outputs": [
    {
     "name": "stdout",
     "output_type": "stream",
     "text": [
      "<class 'pandas.core.frame.DataFrame'>\n",
      "RangeIndex: 118 entries, 0 to 117\n",
      "Data columns (total 3 columns):\n",
      " #   Column  Non-Null Count  Dtype  \n",
      "---  ------  --------------  -----  \n",
      " 0   x1      118 non-null    float64\n",
      " 1   x2      118 non-null    float64\n",
      " 2   y       118 non-null    int64  \n",
      "dtypes: float64(2), int64(1)\n",
      "memory usage: 2.9 KB\n"
     ]
    }
   ],
   "source": [
    "df.info()"
   ]
  },
  {
   "cell_type": "code",
   "execution_count": 14,
   "id": "bf60bbd0",
   "metadata": {},
   "outputs": [
    {
     "data": {
      "text/html": [
       "<div>\n",
       "<style scoped>\n",
       "    .dataframe tbody tr th:only-of-type {\n",
       "        vertical-align: middle;\n",
       "    }\n",
       "\n",
       "    .dataframe tbody tr th {\n",
       "        vertical-align: top;\n",
       "    }\n",
       "\n",
       "    .dataframe thead th {\n",
       "        text-align: right;\n",
       "    }\n",
       "</style>\n",
       "<table border=\"1\" class=\"dataframe\">\n",
       "  <thead>\n",
       "    <tr style=\"text-align: right;\">\n",
       "      <th></th>\n",
       "      <th>x1</th>\n",
       "      <th>x2</th>\n",
       "    </tr>\n",
       "    <tr>\n",
       "      <th>y</th>\n",
       "      <th></th>\n",
       "      <th></th>\n",
       "    </tr>\n",
       "  </thead>\n",
       "  <tbody>\n",
       "    <tr>\n",
       "      <th>0</th>\n",
       "      <td>60</td>\n",
       "      <td>60</td>\n",
       "    </tr>\n",
       "    <tr>\n",
       "      <th>1</th>\n",
       "      <td>58</td>\n",
       "      <td>58</td>\n",
       "    </tr>\n",
       "  </tbody>\n",
       "</table>\n",
       "</div>"
      ],
      "text/plain": [
       "   x1  x2\n",
       "y        \n",
       "0  60  60\n",
       "1  58  58"
      ]
     },
     "execution_count": 14,
     "metadata": {},
     "output_type": "execute_result"
    }
   ],
   "source": [
    "df.groupby('y').count()"
   ]
  },
  {
   "cell_type": "markdown",
   "id": "1986ce85",
   "metadata": {},
   "source": [
    "### Visualize the dataset"
   ]
  },
  {
   "cell_type": "code",
   "execution_count": 15,
   "id": "e024d049",
   "metadata": {},
   "outputs": [
    {
     "data": {
      "text/plain": [
       "<AxesSubplot:xlabel='x1', ylabel='x2'>"
      ]
     },
     "execution_count": 15,
     "metadata": {},
     "output_type": "execute_result"
    },
    {
     "data": {
      "image/png": "[encoded data removed]",
      "text/plain": [
       "<Figure size 432x288 with 1 Axes>"
      ]
     },
     "metadata": {
      "needs_background": "light"
     },
     "output_type": "display_data"
    }
   ],
   "source": [
    "sns.scatterplot(data = df, x = 'x1', y = 'x2', hue = 'y')"
   ]
  },
  {
   "cell_type": "code",
   "execution_count": 16,
   "id": "834a114a",
   "metadata": {},
   "outputs": [],
   "source": [
    "X = np.array(df[['x1','x2']])\n",
    "y = np.array(df[['y']])"
   ]
  },
  {
   "cell_type": "markdown",
   "id": "2a9d6467",
   "metadata": {},
   "source": [
    "### Perform train-test split"
   ]
  },
  {
   "cell_type": "code",
   "execution_count": 17,
   "id": "8bbf2476",
   "metadata": {},
   "outputs": [],
   "source": [
    "from sklearn.model_selection import train_test_split\n",
    "X_train, X_test, y_train, y_test = train_test_split(X, y, test_size=0.33, random_state=42)"
   ]
  },
  {
   "cell_type": "code",
   "execution_count": 18,
   "id": "8546b43c",
   "metadata": {},
   "outputs": [
    {
     "data": {
      "text/plain": [
       "(79, 2)"
      ]
     },
     "execution_count": 18,
     "metadata": {},
     "output_type": "execute_result"
    }
   ],
   "source": [
    "X_train.shape"
   ]
  },
  {
   "cell_type": "code",
   "execution_count": 19,
   "id": "600934c0",
   "metadata": {},
   "outputs": [
    {
     "data": {
      "text/plain": [
       "(39, 1)"
      ]
     },
     "execution_count": 19,
     "metadata": {},
     "output_type": "execute_result"
    }
   ],
   "source": [
    "y_test.shape"
   ]
  },
  {
   "cell_type": "markdown",
   "id": "05747fb8",
   "metadata": {},
   "source": [
    "### Initialize ANN with 5 layers"
   ]
  },
  {
   "cell_type": "code",
   "execution_count": 20,
   "id": "bb05469d",
   "metadata": {},
   "outputs": [],
   "source": [
    "clf = ANN(nodes_in_layer=(2,8,5,1)) # 2,8,5,1"
   ]
  },
  {
   "cell_type": "markdown",
   "id": "cdef37ec",
   "metadata": {},
   "source": [
    "### Train the ANN"
   ]
  },
  {
   "cell_type": "code",
   "execution_count": null,
   "id": "1a0de67b",
   "metadata": {},
   "outputs": [],
   "source": [
    "J_history = clf.fit(X_train,y_train, alpha = 0.001, num_iters = 100000, tol = 1e-5, lamda = 0)\n",
    "pd.DataFrame(J_history).plot()"
   ]
  },
  {
   "cell_type": "code",
   "execution_count": null,
   "id": "6ee34c09",
   "metadata": {},
   "outputs": [],
   "source": [
    "y_probs = clf.predict(X_test)\n",
    "y_preds = np.array([1 if prob > 0.5 else 0 for prob in y_probs]).T\n",
    "print('Accuracy of ANN on test-subset:', 100*np.mean(y_preds==y_test))"
   ]
  },
  {
   "cell_type": "code",
   "execution_count": null,
   "id": "83f755ed",
   "metadata": {},
   "outputs": [],
   "source": []
  }
 ],
 "metadata": {
  "kernelspec": {
   "display_name": "Python 3",
   "language": "python",
   "name": "python3"
  },
  "language_info": {
   "codemirror_mode": {
    "name": "ipython",
    "version": 3
   },
   "file_extension": ".py",
   "mimetype": "text/x-python",
   "name": "python",
   "nbconvert_exporter": "python",
   "pygments_lexer": "ipython3",
   "version": "3.8.10"
  }
 },
 "nbformat": 4,
 "nbformat_minor": 5
}
