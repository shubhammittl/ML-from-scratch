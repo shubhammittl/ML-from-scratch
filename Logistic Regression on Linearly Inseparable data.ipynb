{
 "cells": [
  {
   "cell_type": "code",
   "execution_count": 1,
   "id": "f6201225",
   "metadata": {},
   "outputs": [],
   "source": [
    "import numpy as np\n",
    "import matplotlib.pyplot as plt\n",
    "import random\n",
    "import pandas as pd\n",
    "import seaborn as sns\n",
    "%matplotlib inline\n",
    "%config Completer.use_jedi = False"
   ]
  },
  {
   "cell_type": "code",
   "execution_count": 96,
   "id": "5b450ffc",
   "metadata": {},
   "outputs": [],
   "source": [
    "class LogisticRegression():\n",
    "    def __init__(self,theta =None):\n",
    "        self.theta = theta\n",
    "    \n",
    "    def lengthen(self,X):\n",
    "        return np.c_[np.ones((len(X),1)), X]\n",
    "    \n",
    "    def sigmoid(self,z):\n",
    "        return 1/(1 + np.exp(-z))\n",
    "        \n",
    "    def predict(self, X_test):\n",
    "        X_test = self.lengthen(X_test)\n",
    "        return self.sigmoid(np.matmul(X_test,self.theta))\n",
    "    \n",
    "    def h(self,X):\n",
    "        return self.sigmoid(np.dot(X,self.theta))\n",
    "    \n",
    "    def compute_cost(self,X,y):\n",
    "        m = len(X)\n",
    "        X = self.lengthen(X)\n",
    "        J = (-1/m)* sum( (y*np.log(self.h(X))) + ( (1-y)* np.log(1- self.h(X))) )\n",
    "        return J\n",
    "    \n",
    "    def compute_gradient(self,X,y):\n",
    "        m = len(X)\n",
    "        X = self.lengthen(X)\n",
    "        grad_J = (1/m)* np.dot(X.T,(self.h(X)-y))\n",
    "        return grad_J\n",
    "    \n",
    "    def fit(self, X, y, alpha =0.001, num_iters = 1000, tol = 1e-4):\n",
    "        J_history = []\n",
    "        self.theta = np.zeros((X.shape[1]+1,1))\n",
    "        for iteration in range(num_iters):\n",
    "            J_history.append(self.compute_cost(X,y))\n",
    "            if abs(J_history[-1])<tol:\n",
    "                break\n",
    "            grad_J = self.compute_gradient(X,y)\n",
    "            self.theta = self.theta - alpha*grad_J\n",
    "        \n",
    "        return J_history"
   ]
  },
  {
   "cell_type": "markdown",
   "id": "d3e4a019",
   "metadata": {},
   "source": [
    "## Logistic Regression on Linearly Inseparable data"
   ]
  },
  {
   "cell_type": "code",
   "execution_count": 3,
   "id": "ab78bc38",
   "metadata": {},
   "outputs": [],
   "source": [
    "df = pd.read_csv('data/linearly_inseparable.txt',sep=',', header= None, names= 'x1 x2 y'.split())"
   ]
  },
  {
   "cell_type": "code",
   "execution_count": 4,
   "id": "a4401643",
   "metadata": {},
   "outputs": [
    {
     "data": {
      "text/html": [
       "<div>\n",
       "<style scoped>\n",
       "    .dataframe tbody tr th:only-of-type {\n",
       "        vertical-align: middle;\n",
       "    }\n",
       "\n",
       "    .dataframe tbody tr th {\n",
       "        vertical-align: top;\n",
       "    }\n",
       "\n",
       "    .dataframe thead th {\n",
       "        text-align: right;\n",
       "    }\n",
       "</style>\n",
       "<table border=\"1\" class=\"dataframe\">\n",
       "  <thead>\n",
       "    <tr style=\"text-align: right;\">\n",
       "      <th></th>\n",
       "      <th>x1</th>\n",
       "      <th>x2</th>\n",
       "      <th>y</th>\n",
       "    </tr>\n",
       "  </thead>\n",
       "  <tbody>\n",
       "    <tr>\n",
       "      <th>0</th>\n",
       "      <td>0.051267</td>\n",
       "      <td>0.69956</td>\n",
       "      <td>1</td>\n",
       "    </tr>\n",
       "    <tr>\n",
       "      <th>1</th>\n",
       "      <td>-0.092742</td>\n",
       "      <td>0.68494</td>\n",
       "      <td>1</td>\n",
       "    </tr>\n",
       "    <tr>\n",
       "      <th>2</th>\n",
       "      <td>-0.213710</td>\n",
       "      <td>0.69225</td>\n",
       "      <td>1</td>\n",
       "    </tr>\n",
       "    <tr>\n",
       "      <th>3</th>\n",
       "      <td>-0.375000</td>\n",
       "      <td>0.50219</td>\n",
       "      <td>1</td>\n",
       "    </tr>\n",
       "    <tr>\n",
       "      <th>4</th>\n",
       "      <td>-0.513250</td>\n",
       "      <td>0.46564</td>\n",
       "      <td>1</td>\n",
       "    </tr>\n",
       "  </tbody>\n",
       "</table>\n",
       "</div>"
      ],
      "text/plain": [
       "         x1       x2  y\n",
       "0  0.051267  0.69956  1\n",
       "1 -0.092742  0.68494  1\n",
       "2 -0.213710  0.69225  1\n",
       "3 -0.375000  0.50219  1\n",
       "4 -0.513250  0.46564  1"
      ]
     },
     "execution_count": 4,
     "metadata": {},
     "output_type": "execute_result"
    }
   ],
   "source": [
    "df.head()"
   ]
  },
  {
   "cell_type": "code",
   "execution_count": 5,
   "id": "b5a9639c",
   "metadata": {},
   "outputs": [
    {
     "name": "stdout",
     "output_type": "stream",
     "text": [
      "<class 'pandas.core.frame.DataFrame'>\n",
      "RangeIndex: 118 entries, 0 to 117\n",
      "Data columns (total 3 columns):\n",
      " #   Column  Non-Null Count  Dtype  \n",
      "---  ------  --------------  -----  \n",
      " 0   x1      118 non-null    float64\n",
      " 1   x2      118 non-null    float64\n",
      " 2   y       118 non-null    int64  \n",
      "dtypes: float64(2), int64(1)\n",
      "memory usage: 2.9 KB\n"
     ]
    }
   ],
   "source": [
    "df.info()"
   ]
  },
  {
   "cell_type": "code",
   "execution_count": 6,
   "id": "bf60bbd0",
   "metadata": {},
   "outputs": [
    {
     "data": {
      "text/html": [
       "<div>\n",
       "<style scoped>\n",
       "    .dataframe tbody tr th:only-of-type {\n",
       "        vertical-align: middle;\n",
       "    }\n",
       "\n",
       "    .dataframe tbody tr th {\n",
       "        vertical-align: top;\n",
       "    }\n",
       "\n",
       "    .dataframe thead th {\n",
       "        text-align: right;\n",
       "    }\n",
       "</style>\n",
       "<table border=\"1\" class=\"dataframe\">\n",
       "  <thead>\n",
       "    <tr style=\"text-align: right;\">\n",
       "      <th></th>\n",
       "      <th>x1</th>\n",
       "      <th>x2</th>\n",
       "    </tr>\n",
       "    <tr>\n",
       "      <th>y</th>\n",
       "      <th></th>\n",
       "      <th></th>\n",
       "    </tr>\n",
       "  </thead>\n",
       "  <tbody>\n",
       "    <tr>\n",
       "      <th>0</th>\n",
       "      <td>60</td>\n",
       "      <td>60</td>\n",
       "    </tr>\n",
       "    <tr>\n",
       "      <th>1</th>\n",
       "      <td>58</td>\n",
       "      <td>58</td>\n",
       "    </tr>\n",
       "  </tbody>\n",
       "</table>\n",
       "</div>"
      ],
      "text/plain": [
       "   x1  x2\n",
       "y        \n",
       "0  60  60\n",
       "1  58  58"
      ]
     },
     "execution_count": 6,
     "metadata": {},
     "output_type": "execute_result"
    }
   ],
   "source": [
    "df.groupby('y').count()"
   ]
  },
  {
   "cell_type": "markdown",
   "id": "1986ce85",
   "metadata": {},
   "source": [
    "### Visualize the dataset"
   ]
  },
  {
   "cell_type": "code",
   "execution_count": 7,
   "id": "e024d049",
   "metadata": {},
   "outputs": [
    {
     "data": {
      "text/plain": [
       "<AxesSubplot:xlabel='x1', ylabel='x2'>"
      ]
     },
     "execution_count": 7,
     "metadata": {},
     "output_type": "execute_result"
    },
    {
     "data": {
      "image/png": "[encoded data removed]",
      "text/plain": [
       "<Figure size 432x288 with 1 Axes>"
      ]
     },
     "metadata": {
      "needs_background": "light"
     },
     "output_type": "display_data"
    }
   ],
   "source": [
    "sns.scatterplot(data = df, x = 'x1', y = 'x2', hue = 'y')"
   ]
  },
  {
   "cell_type": "code",
   "execution_count": 85,
   "id": "834a114a",
   "metadata": {},
   "outputs": [],
   "source": [
    "X = np.array(df[['x1','x2']])\n",
    "y = np.array(df[['y']])"
   ]
  },
  {
   "cell_type": "markdown",
   "id": "4698af6c",
   "metadata": {},
   "source": [
    "### Sklearn classifier based on LBFGS"
   ]
  },
  {
   "cell_type": "code",
   "execution_count": 92,
   "id": "2c05666a",
   "metadata": {},
   "outputs": [],
   "source": [
    "from sklearn.linear_model import LogisticRegression"
   ]
  },
  {
   "cell_type": "code",
   "execution_count": 93,
   "id": "d6872d2b",
   "metadata": {},
   "outputs": [],
   "source": [
    "clf2 = LogisticRegression(random_state=0).fit(poly_X, y.flatten())"
   ]
  },
  {
   "cell_type": "code",
   "execution_count": 94,
   "id": "181079b5",
   "metadata": {},
   "outputs": [],
   "source": [
    "y_preds = clf2.predict(poly_X)"
   ]
  },
  {
   "cell_type": "code",
   "execution_count": 95,
   "id": "6434d0f3",
   "metadata": {},
   "outputs": [
    {
     "data": {
      "text/plain": [
       "0.8305084745762712"
      ]
     },
     "execution_count": 95,
     "metadata": {},
     "output_type": "execute_result"
    }
   ],
   "source": [
    "np.mean(y.flatten()==y_preds)"
   ]
  },
  {
   "cell_type": "markdown",
   "id": "b3429692",
   "metadata": {},
   "source": [
    "Data is already in consistent scale across both features"
   ]
  },
  {
   "cell_type": "code",
   "execution_count": 86,
   "id": "ea9be4e0",
   "metadata": {},
   "outputs": [
    {
     "name": "stdout",
     "output_type": "stream",
     "text": [
      "[-0.83007 -0.76974] [1.0709 1.1089]\n"
     ]
    }
   ],
   "source": [
    "print(np.min(X, axis =0), np.max(X, axis =0))"
   ]
  },
  {
   "cell_type": "markdown",
   "id": "e1b6c4b3",
   "metadata": {},
   "source": [
    "In order to obtain a non-linear decision boundary using Logistic Regression, we need higher order polynomial terms of the features, such as quadratic, cubic and so on."
   ]
  },
  {
   "cell_type": "code",
   "execution_count": 87,
   "id": "06a940b7",
   "metadata": {},
   "outputs": [],
   "source": [
    "def min_max_scaler(X):\n",
    "    \"\"\"Scales the given X feature vector in the range of [0,1].\n",
    "        For each feature x_j, \n",
    "            x_j_new = (x_j - x_j_min)/(x_j_max - x_j_min)\"\"\"\n",
    "    X_min = np.min(X,axis = 0)\n",
    "    X_max = np.max(X,axis = 0)\n",
    "    return (X-X_min)/(X_max - X_min)"
   ]
  },
  {
   "cell_type": "markdown",
   "id": "7a802550",
   "metadata": {},
   "source": [
    "### Synthesis polynomial features"
   ]
  },
  {
   "cell_type": "code",
   "execution_count": 88,
   "id": "4d1cb096",
   "metadata": {},
   "outputs": [],
   "source": [
    "def get_polynomial_features(X, max_degree):\n",
    "    cols = [np.array([X[:,0]**i *X[:,1]**j]).T for i in range(0,max_degree+1) for j in range(0,max_degree+1) if((i,j)!=(0,0))]\n",
    "    return np.column_stack(cols)"
   ]
  },
  {
   "cell_type": "code",
   "execution_count": 89,
   "id": "e639cb92",
   "metadata": {},
   "outputs": [],
   "source": [
    "poly_X = get_polynomial_features(X,12)"
   ]
  },
  {
   "cell_type": "markdown",
   "id": "7189b90a",
   "metadata": {},
   "source": [
    "#### Scale the obtained features"
   ]
  },
  {
   "cell_type": "code",
   "execution_count": 90,
   "id": "3b9240a0",
   "metadata": {},
   "outputs": [],
   "source": [
    "poly_X = min_max_scaler(poly_X)"
   ]
  },
  {
   "cell_type": "markdown",
   "id": "93c6c419",
   "metadata": {},
   "source": [
    "### Fit logistic regression "
   ]
  },
  {
   "cell_type": "code",
   "execution_count": 97,
   "id": "fce715e4",
   "metadata": {},
   "outputs": [],
   "source": [
    "clf = LogisticRegression()"
   ]
  },
  {
   "cell_type": "code",
   "execution_count": 98,
   "id": "8d07e936",
   "metadata": {},
   "outputs": [],
   "source": [
    "J_history = clf.fit(poly_X,y, alpha = 1, num_iters= 10000)"
   ]
  },
  {
   "cell_type": "code",
   "execution_count": 99,
   "id": "1bc58dd0",
   "metadata": {},
   "outputs": [
    {
     "data": {
      "text/plain": [
       "<AxesSubplot:title={'center':'Training Loss trend'}, xlabel='iters', ylabel='J'>"
      ]
     },
     "execution_count": 99,
     "metadata": {},
     "output_type": "execute_result"
    },
    {
     "data": {
      "image/png": "[encoded data removed]",
      "text/plain": [
       "<Figure size 432x288 with 1 Axes>"
      ]
     },
     "metadata": {
      "needs_background": "light"
     },
     "output_type": "display_data"
    }
   ],
   "source": [
    "pd.DataFrame(J_history).plot(xlabel ='iters', ylabel= 'J', title = 'Training Loss trend')"
   ]
  },
  {
   "cell_type": "code",
   "execution_count": 100,
   "id": "a0f2565d",
   "metadata": {},
   "outputs": [
    {
     "data": {
      "text/plain": [
       "array([[ 2.43743071],\n",
       "       [ 7.70920259],\n",
       "       [-8.11595668],\n",
       "       [ 0.0796726 ],\n",
       "       [-6.77463755],\n",
       "       [-0.21495929],\n",
       "       [-3.08478839],\n",
       "       [ 0.13914214],\n",
       "       [-1.16647146],\n",
       "       [ 0.27709218],\n",
       "       [-0.38022325],\n",
       "       [ 0.21701505],\n",
       "       [-0.14809771],\n",
       "       [ 3.82210385],\n",
       "       [-7.52476898],\n",
       "       [ 1.6685097 ],\n",
       "       [-2.98891089],\n",
       "       [-3.50515277],\n",
       "       [-3.05069636],\n",
       "       [-3.9325179 ],\n",
       "       [-2.89340343],\n",
       "       [-3.46338169],\n",
       "       [-2.65246107],\n",
       "       [-2.87685116],\n",
       "       [-2.31604436],\n",
       "       [-2.33048049],\n",
       "       [-7.47684353],\n",
       "       [ 3.54981566],\n",
       "       [ 0.22739918],\n",
       "       [-0.13421069],\n",
       "       [-4.06378107],\n",
       "       [ 0.02092138],\n",
       "       [-2.40745617],\n",
       "       [ 0.94703512],\n",
       "       [-0.29439128],\n",
       "       [ 1.7463838 ],\n",
       "       [ 1.14587778],\n",
       "       [ 2.29466163],\n",
       "       [ 2.00410787],\n",
       "       [ 2.06198612],\n",
       "       [-0.21718962],\n",
       "       [ 6.47762475],\n",
       "       [ 2.13202367],\n",
       "       [ 2.18718618],\n",
       "       [ 2.0681757 ],\n",
       "       [ 1.2577754 ],\n",
       "       [ 1.89027704],\n",
       "       [ 1.03234425],\n",
       "       [ 1.54201101],\n",
       "       [ 0.88489107],\n",
       "       [ 1.19230709],\n",
       "       [ 0.7547583 ],\n",
       "       [-5.18891836],\n",
       "       [-0.21705015],\n",
       "       [ 3.10001535],\n",
       "       [-0.93438753],\n",
       "       [-1.94486694],\n",
       "       [-1.4240647 ],\n",
       "       [-3.09531079],\n",
       "       [-1.20991853],\n",
       "       [-2.76397991],\n",
       "       [-0.95664687],\n",
       "       [-1.98412902],\n",
       "       [-0.58511811],\n",
       "       [-1.06444486],\n",
       "       [ 0.13494233],\n",
       "       [-1.5412634 ],\n",
       "       [ 3.450256  ],\n",
       "       [-0.89823873],\n",
       "       [ 0.649508  ],\n",
       "       [-0.20891403],\n",
       "       [ 0.36134528],\n",
       "       [ 0.99711809],\n",
       "       [ 0.85941351],\n",
       "       [ 1.49738129],\n",
       "       [ 1.20854007],\n",
       "       [ 1.63902767],\n",
       "       [ 1.39542283],\n",
       "       [-4.63505062],\n",
       "       [-0.91164944],\n",
       "       [ 1.84555899],\n",
       "       [-0.28218108],\n",
       "       [-0.19841487],\n",
       "       [-0.94141145],\n",
       "       [-1.85897098],\n",
       "       [-1.02417508],\n",
       "       [-1.98817546],\n",
       "       [-0.87331933],\n",
       "       [-1.7355559 ],\n",
       "       [-0.79746046],\n",
       "       [-1.44785729],\n",
       "       [-0.96223614],\n",
       "       [-0.49278459],\n",
       "       [ 1.54832245],\n",
       "       [-0.77880113],\n",
       "       [-0.24579112],\n",
       "       [-1.19640972],\n",
       "       [-0.78602644],\n",
       "       [-0.4055522 ],\n",
       "       [-0.12848237],\n",
       "       [ 0.58095091],\n",
       "       [ 0.51875954],\n",
       "       [ 1.03140784],\n",
       "       [ 0.90671536],\n",
       "       [-3.79545818],\n",
       "       [-0.62060834],\n",
       "       [-0.45689953],\n",
       "       [ 0.28144311],\n",
       "       [-0.18918129],\n",
       "       [-0.14774851],\n",
       "       [-1.01710124],\n",
       "       [-0.55344973],\n",
       "       [-1.39291997],\n",
       "       [-0.54412924],\n",
       "       [-1.18778143],\n",
       "       [-0.46021439],\n",
       "       [-0.97131787],\n",
       "       [-1.3870871 ],\n",
       "       [ 0.49927552],\n",
       "       [ 0.02629658],\n",
       "       [ 0.11178365],\n",
       "       [-0.54158487],\n",
       "       [-0.67714997],\n",
       "       [-0.84766215],\n",
       "       [-0.67896536],\n",
       "       [-0.78659242],\n",
       "       [-0.13665434],\n",
       "       [-0.13041632],\n",
       "       [ 0.43914445],\n",
       "       [ 0.35835154],\n",
       "       [-2.88634035],\n",
       "       [-0.21088117],\n",
       "       [-2.63570002],\n",
       "       [ 0.6893255 ],\n",
       "       [-0.73667032],\n",
       "       [ 0.3247954 ],\n",
       "       [-0.78004465],\n",
       "       [-0.03643455],\n",
       "       [-1.0732007 ],\n",
       "       [-0.25921109],\n",
       "       [-0.95640333],\n",
       "       [-0.26973553],\n",
       "       [-0.71209079],\n",
       "       [-1.39264933],\n",
       "       [ 0.79780279],\n",
       "       [-1.12467644],\n",
       "       [ 0.86229961],\n",
       "       [-0.79557894],\n",
       "       [ 0.03520634],\n",
       "       [-0.77958596],\n",
       "       [-0.35752952],\n",
       "       [-0.71745602],\n",
       "       [-0.22284381],\n",
       "       [-0.52160093],\n",
       "       [ 0.04928028],\n",
       "       [-0.05813378],\n",
       "       [-2.1115018 ],\n",
       "       [ 0.03894161],\n",
       "       [-3.56660075],\n",
       "       [ 0.97795192],\n",
       "       [-1.31722968],\n",
       "       [ 0.6167264 ],\n",
       "       [-0.85487025],\n",
       "       [ 0.24646006],\n",
       "       [-0.82349481],\n",
       "       [ 0.02828177],\n",
       "       [-0.89368032],\n",
       "       [-0.11697465],\n",
       "       [-0.63948813]])"
      ]
     },
     "execution_count": 100,
     "metadata": {},
     "output_type": "execute_result"
    }
   ],
   "source": [
    "clf.theta"
   ]
  },
  {
   "cell_type": "code",
   "execution_count": 101,
   "id": "948777d3",
   "metadata": {},
   "outputs": [],
   "source": [
    "y_prob = clf.h(np.c_[np.ones((len(poly_X),1)),poly_X])"
   ]
  },
  {
   "cell_type": "code",
   "execution_count": 102,
   "id": "8e772f7e",
   "metadata": {},
   "outputs": [],
   "source": [
    "y_preds = [1 if prob>=0.5 else 0 for prob in y_prob]"
   ]
  },
  {
   "cell_type": "code",
   "execution_count": 103,
   "id": "69c62405",
   "metadata": {},
   "outputs": [
    {
     "data": {
      "text/plain": [
       "0.49956908934214306"
      ]
     },
     "execution_count": 103,
     "metadata": {},
     "output_type": "execute_result"
    }
   ],
   "source": [
    "np.mean(y_preds==y)"
   ]
  },
  {
   "cell_type": "markdown",
   "id": "7bb684a2",
   "metadata": {},
   "source": [
    "#### The logistic regression model seems to suffer in fitting using Gradient descent. \n",
    "#### Let's use the BFGS Algorithm"
   ]
  },
  {
   "cell_type": "code",
   "execution_count": 72,
   "id": "7e8c5edb",
   "metadata": {},
   "outputs": [
    {
     "name": "stdout",
     "output_type": "stream",
     "text": [
      "Shape of theta: (100, 1)\n",
      "Shape of poly_X: (118, 100)\n",
      "Shape of y: (118, 1)\n"
     ]
    }
   ],
   "source": [
    "# bfgs algorithm local optimization of a convex function\n",
    "from scipy.optimize import minimize\n",
    "\n",
    "def lengthen(X):\n",
    "    return np.c_[np.ones((len(X),1)), X]\n",
    "    \n",
    "def sigmoid(z):\n",
    "    return 1/(1 + np.exp(-z))\n",
    "\n",
    "def h(X, theta):\n",
    "    return sigmoid(np.dot(X,theta))\n",
    "\n",
    "def compute_cost(theta,X,y):\n",
    "        m = len(X)\n",
    "        J = (-1/m)* sum( (y*np.log(h(X,theta))) + ( (1-y)* np.log(1- h(X,theta))))\n",
    "        return J[0]\n",
    "\n",
    "def compute_gradient(theta,X,y):\n",
    "        m = len(X)\n",
    "        grad_J = (1/m)* np.dot(X.T,(h(X,theta)-y))\n",
    "        return grad_J\n",
    "\n",
    "X = lengthen(poly_X)\n",
    "theta = np.random.randn(X.shape[1],1)\n",
    "print('Shape of theta:',theta.shape)\n",
    "print('Shape of poly_X:', X.shape)\n",
    "print('Shape of y:', y.shape)\n",
    "\n",
    "# perform the bfgs algorithm search\n",
    "result = minimize(fun = compute_cost, x0= theta , args = (X,y), method='BFGS')# ,jac=compute_gradient)\n"
   ]
  },
  {
   "cell_type": "code",
   "execution_count": 73,
   "id": "32cef37a",
   "metadata": {},
   "outputs": [
    {
     "name": "stdout",
     "output_type": "stream",
     "text": [
      "Status : Optimization terminated successfully.\n",
      "Total Evaluations: 505\n",
      "Solution: f([ 6.87037793e-02 -5.97906868e-01 -1.01828182e+00  9.49634054e-01\n",
      "  5.57301528e-03  7.34403504e-01 -1.27347556e+00  1.11790714e-01\n",
      " -6.71591875e-01 -7.46831863e-01 -8.76220764e-01 -1.23654522e+00\n",
      "  3.51374610e-01  5.57136925e-01 -8.57505071e-01 -1.47582432e-01\n",
      "  8.43558353e-01 -9.27484245e-01  7.27817075e-04  9.91439656e-01\n",
      " -1.48047812e+00 -8.02665576e-01 -8.98204719e-01 -1.10092438e+00\n",
      "  8.18001218e-03  1.29660663e+00  1.18997447e-01 -8.15664293e-01\n",
      " -3.52883573e-01 -6.00733296e-01 -1.22903728e-01  3.13625489e-01\n",
      " -3.78201132e-01  8.75541220e-01  1.43336497e+00  1.85289506e+00\n",
      "  1.04361510e+00  1.34846200e+00  4.77836104e-01 -9.79560100e-01\n",
      "  6.38850105e-01  1.10285664e+00  7.64786300e-01 -9.04330667e-02\n",
      " -3.70497367e-01 -2.32439151e-01 -1.36498074e-01 -1.22136895e+00\n",
      "  5.03468689e-01 -9.30423679e-01  4.63721581e-01 -7.84665335e-01\n",
      " -7.65968554e-01  2.10985432e+00  2.40216456e+00 -1.48502086e+00\n",
      "  4.07422989e-01 -1.69245667e+00 -1.48096719e+00 -4.99119406e-02\n",
      "  2.58645002e-01 -1.28855335e-01 -1.58789419e-01 -2.10719650e+00\n",
      "  1.00933628e+00 -3.46364083e-01  8.49247077e-01  1.04558146e+00\n",
      " -1.43953606e+00  7.02790538e-02 -1.29924081e+00  5.22167621e-01\n",
      "  4.41813506e-01  1.29984046e-01  2.93257203e+00  3.27036634e-01\n",
      " -8.48020770e-01 -1.01643844e-02  6.23995906e-01 -1.68095256e+00\n",
      "  1.60958302e-01  1.31940285e-01  1.47669208e+00  1.01664216e+00\n",
      "  1.06606270e+00 -6.14454664e-01 -8.71515499e-02 -5.75687735e-01\n",
      "  1.99377929e+00  1.88683222e+00 -5.42639086e-01  4.73379887e-01\n",
      " -1.81052388e+00  2.47431200e-02 -1.10483817e-01  2.40111275e-01\n",
      " -1.20330739e-01 -8.60436959e-01 -1.02524306e+00 -1.03910943e-01]) = 0.69300\n"
     ]
    }
   ],
   "source": [
    "# summarize the result\n",
    "print('Status : %s' % result['message'])\n",
    "print('Total Evaluations: %d' % result['nfev'])\n",
    "# evaluate solution\n",
    "solution = result['x']\n",
    "evaluation = compute_cost(solution,X,y)\n",
    "print('Solution: f(%s) = %.5f' % (solution, evaluation))"
   ]
  },
  {
   "cell_type": "code",
   "execution_count": 28,
   "id": "e73f926a",
   "metadata": {
    "scrolled": true
   },
   "outputs": [
    {
     "data": {
      "text/plain": [
       "0.6930035367960162"
      ]
     },
     "execution_count": 28,
     "metadata": {},
     "output_type": "execute_result"
    }
   ],
   "source": [
    "compute_cost(result['x'],X,y)"
   ]
  },
  {
   "cell_type": "code",
   "execution_count": 29,
   "id": "5f709ad6",
   "metadata": {},
   "outputs": [
    {
     "data": {
      "text/plain": [
       "(36, 1)"
      ]
     },
     "execution_count": 29,
     "metadata": {},
     "output_type": "execute_result"
    }
   ],
   "source": [
    "compute_gradient(theta,X,y).shape"
   ]
  },
  {
   "cell_type": "code",
   "execution_count": 80,
   "id": "7e59dcb3",
   "metadata": {},
   "outputs": [],
   "source": [
    "y_classify = [1 if y>=0.5 else 0 for y in y_preds]"
   ]
  },
  {
   "cell_type": "code",
   "execution_count": 81,
   "id": "803a4630",
   "metadata": {},
   "outputs": [
    {
     "data": {
      "text/plain": [
       "0.5001436368859523"
      ]
     },
     "execution_count": 81,
     "metadata": {},
     "output_type": "execute_result"
    }
   ],
   "source": [
    "np.mean(y_classify==y)"
   ]
  },
  {
   "cell_type": "markdown",
   "id": "8ccda111",
   "metadata": {},
   "source": [
    "### Plot decision boundary"
   ]
  },
  {
   "cell_type": "markdown",
   "id": "fd0d98e1",
   "metadata": {},
   "source": [
    "    % Here is the grid range\n",
    "    u = linspace(-1, 1.5, 50);\n",
    "    v = linspace(-1, 1.5, 50);\n",
    "\n",
    "    z = zeros(length(u), length(v));\n",
    "    % Evaluate z = theta*x over the grid\n",
    "    for i = 1:length(u)\n",
    "        for j = 1:length(v)\n",
    "            z(i,j) = mapFeature(u(i), v(j))*theta;\n",
    "        end\n",
    "    end\n",
    "    z = z'; % important to transpose z before calling contour\n",
    "\n",
    "    % Plot z = 0\n",
    "    % Notice you need to specify the range [0, 0]\n",
    "    contour(u, v, z, [0, 0], 'LineWidth', 2)\n",
    "end"
   ]
  },
  {
   "cell_type": "code",
   "execution_count": null,
   "id": "a0a26070",
   "metadata": {},
   "outputs": [],
   "source": [
    "u = np.linspace(-1,1.5,50)\n",
    "v = np.linspace(-1,1.5,50)\n",
    "\n",
    "z= np.zeros((len(u),len(v)))\n",
    "\n",
    "for i in range(len(u)):\n",
    "    for j in range(len(v)):\n",
    "        z[i,j] = np.matmul(np.c_[1,get_polynomial_features(np.c_[u[i],v[i]],6)], clf.theta)\n",
    "        \n",
    "        z[i,j] = 1/(1 + np.exp(-z[i,j]))"
   ]
  },
  {
   "cell_type": "code",
   "execution_count": null,
   "id": "ec706638",
   "metadata": {},
   "outputs": [],
   "source": [
    "z = z.T"
   ]
  },
  {
   "cell_type": "code",
   "execution_count": null,
   "id": "cab39997",
   "metadata": {},
   "outputs": [],
   "source": [
    "z = z.T\n",
    "plt.contour(u,v,z,400)"
   ]
  },
  {
   "cell_type": "code",
   "execution_count": null,
   "id": "e18ab201",
   "metadata": {},
   "outputs": [],
   "source": []
  }
 ],
 "metadata": {
  "kernelspec": {
   "display_name": "Python 3",
   "language": "python",
   "name": "python3"
  },
  "language_info": {
   "codemirror_mode": {
    "name": "ipython",
    "version": 3
   },
   "file_extension": ".py",
   "mimetype": "text/x-python",
   "name": "python",
   "nbconvert_exporter": "python",
   "pygments_lexer": "ipython3",
   "version": "3.8.10"
  }
 },
 "nbformat": 4,
 "nbformat_minor": 5
}
